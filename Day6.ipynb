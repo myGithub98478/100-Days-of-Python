{
  "nbformat": 4,
  "nbformat_minor": 0,
  "metadata": {
    "colab": {
      "provenance": []
    },
    "kernelspec": {
      "name": "python3",
      "display_name": "Python 3"
    },
    "language_info": {
      "name": "python"
    }
  },
  "cells": [
    {
      "cell_type": "markdown",
      "source": [
        "# NumPy Lab-3\n",
        "Student Name:Ashish Acharya\n",
        "Date:2082/02/04\n",
        "Lab_on:NumPy\n",
        "Lab_No:03\n"
      ],
      "metadata": {
        "id": "HyqTMSgV1El_"
      }
    },
    {
      "cell_type": "code",
      "source": [
        "# 1.Introduction to numpy array\n",
        "import numpy as np\n",
        "print(\"NumPy Version:\",np.__version__)\n"
      ],
      "metadata": {
        "colab": {
          "base_uri": "https://localhost:8080/"
        },
        "id": "vXsj_9YH2XER",
        "outputId": "9f3b18f7-ecae-4cf7-838f-b2d83fa4fad2"
      },
      "execution_count": null,
      "outputs": [
        {
          "output_type": "stream",
          "name": "stdout",
          "text": [
            "NumPy Version: 2.0.2\n"
          ]
        }
      ]
    },
    {
      "cell_type": "code",
      "source": [
        "print(\"\\n --- Basic Array Creation--\")\n",
        "# creating a simple 1-D array\n",
        "arr1d=np.array([1,2,3,4,5])\n",
        "print(\"1-D ArrayL\",arr1d)"
      ],
      "metadata": {
        "colab": {
          "base_uri": "https://localhost:8080/"
        },
        "id": "-zM_oK9l2kB7",
        "outputId": "3e5df79a-9cd3-4ffc-ca95-05edec185fb9"
      },
      "execution_count": null,
      "outputs": [
        {
          "output_type": "stream",
          "name": "stdout",
          "text": [
            "\n",
            " --- Basic Array Creation--\n",
            "1-D ArrayL [1 2 3 4 5]\n"
          ]
        }
      ]
    },
    {
      "cell_type": "code",
      "source": [
        "print(\"Type:\",type(arr1d))"
      ],
      "metadata": {
        "colab": {
          "base_uri": "https://localhost:8080/"
        },
        "id": "KK_imZKY3PJO",
        "outputId": "aaa0074f-b5ea-4cf9-8d0a-ffdfa433f4ab"
      },
      "execution_count": null,
      "outputs": [
        {
          "output_type": "stream",
          "name": "stdout",
          "text": [
            "Type: <class 'numpy.ndarray'>\n"
          ]
        }
      ]
    },
    {
      "cell_type": "code",
      "source": [
        "print(\"Shape:\",arr1d.shape)"
      ],
      "metadata": {
        "colab": {
          "base_uri": "https://localhost:8080/"
        },
        "id": "V_7ibrXe3RPh",
        "outputId": "6e8aa671-9d1e-4d7f-afd0-9d2a894692a9"
      },
      "execution_count": null,
      "outputs": [
        {
          "output_type": "stream",
          "name": "stdout",
          "text": [
            "Shape: (5,)\n"
          ]
        }
      ]
    },
    {
      "cell_type": "code",
      "source": [
        "print(\"Size:\",arr1d.size)"
      ],
      "metadata": {
        "colab": {
          "base_uri": "https://localhost:8080/"
        },
        "id": "mXC6HC7E3TOV",
        "outputId": "0a6d7680-33db-4876-a37c-698694aee92a"
      },
      "execution_count": null,
      "outputs": [
        {
          "output_type": "stream",
          "name": "stdout",
          "text": [
            "Size: 5\n"
          ]
        }
      ]
    },
    {
      "cell_type": "code",
      "source": [
        "print(\"Data type:\",arr1d.dtype)"
      ],
      "metadata": {
        "colab": {
          "base_uri": "https://localhost:8080/"
        },
        "id": "W66NSqV93Wvw",
        "outputId": "8c781ddc-5206-4601-bc4d-20e4506208af"
      },
      "execution_count": null,
      "outputs": [
        {
          "output_type": "stream",
          "name": "stdout",
          "text": [
            "Data type: int64\n"
          ]
        }
      ]
    },
    {
      "cell_type": "code",
      "source": [
        "# Creating a 2D array\n",
        "arr2d=np.array([[1,2,3],[4,5,6]])\n",
        "print(\"\\n2D array:\")\n",
        "print(arr2d)"
      ],
      "metadata": {
        "colab": {
          "base_uri": "https://localhost:8080/"
        },
        "id": "hSg57Kmu3fDr",
        "outputId": "cb139795-af93-4433-8477-28f53f44bdf7"
      },
      "execution_count": null,
      "outputs": [
        {
          "output_type": "stream",
          "name": "stdout",
          "text": [
            "\n",
            "2D array:\n",
            "[[1 2 3]\n",
            " [4 5 6]]\n"
          ]
        }
      ]
    },
    {
      "cell_type": "code",
      "source": [
        "print(\"Shape\",arr2d.shape)"
      ],
      "metadata": {
        "colab": {
          "base_uri": "https://localhost:8080/"
        },
        "id": "IReemeyY34u3",
        "outputId": "b2d943ad-b468-49c3-d106-3510b903d844"
      },
      "execution_count": null,
      "outputs": [
        {
          "output_type": "stream",
          "name": "stdout",
          "text": [
            "Shape (2, 3)\n"
          ]
        }
      ]
    },
    {
      "cell_type": "code",
      "source": [
        "# Creating a 3-D array\n",
        "arr3d=np.array([[1,2],[3,4],[5,6],[7,8]])\n",
        "print(\"\\n 3D array:\")\n",
        "print(arr3d)\n"
      ],
      "metadata": {
        "colab": {
          "base_uri": "https://localhost:8080/"
        },
        "id": "_ca6bISN3-Uk",
        "outputId": "06ca5d92-3700-4001-a1b4-bf77bae924a5"
      },
      "execution_count": null,
      "outputs": [
        {
          "output_type": "stream",
          "name": "stdout",
          "text": [
            "\n",
            " 3D array:\n",
            "[[1 2]\n",
            " [3 4]\n",
            " [5 6]\n",
            " [7 8]]\n"
          ]
        }
      ]
    },
    {
      "cell_type": "code",
      "source": [
        "print(\"shape:\",arr3d.shape)"
      ],
      "metadata": {
        "colab": {
          "base_uri": "https://localhost:8080/"
        },
        "id": "iC-_63HQ-ri8",
        "outputId": "31b65921-0fba-42b9-b022-76d693503a5b"
      },
      "execution_count": null,
      "outputs": [
        {
          "output_type": "stream",
          "name": "stdout",
          "text": [
            "shape: (4, 2)\n"
          ]
        }
      ]
    },
    {
      "cell_type": "code",
      "source": [
        "# Array Distribution\n",
        "print(\"\\n --- Array Attributes--\")\n",
        "arr=np.array([[1,2,3],[4,5,6]],dtype=np.float64)\n",
        "print(\"Array:\")\n",
        "print(arr)\n"
      ],
      "metadata": {
        "colab": {
          "base_uri": "https://localhost:8080/"
        },
        "id": "KYyRF3Ue4Xu8",
        "outputId": "bc2d4457-4ca0-4a3a-d3d4-d6b2ba6ec9eb"
      },
      "execution_count": null,
      "outputs": [
        {
          "output_type": "stream",
          "name": "stdout",
          "text": [
            "\n",
            " --- Array Attributes--\n",
            "Array:\n",
            "[[1. 2. 3.]\n",
            " [4. 5. 6.]]\n"
          ]
        }
      ]
    },
    {
      "cell_type": "markdown",
      "source": [
        "dtype=np.float64: This specifies the data type of the elements within the array. np.float64 indicates that each element will be a 64-bit floating-point number. Even though the initial values are integers, NumPy will store them as floating-point numbers due to this specification."
      ],
      "metadata": {
        "id": "vmpvIAcU_Bne"
      }
    },
    {
      "cell_type": "code",
      "source": [
        "print(\"Dimensions:\",arr.ndim)"
      ],
      "metadata": {
        "colab": {
          "base_uri": "https://localhost:8080/"
        },
        "id": "7KAQz4sr431F",
        "outputId": "864409a7-a1e8-4924-abea-00eed9219e35"
      },
      "execution_count": null,
      "outputs": [
        {
          "output_type": "stream",
          "name": "stdout",
          "text": [
            "Dimensions: 2\n"
          ]
        }
      ]
    },
    {
      "cell_type": "code",
      "source": [
        "print(\"Shape\",arr.shape)"
      ],
      "metadata": {
        "colab": {
          "base_uri": "https://localhost:8080/"
        },
        "id": "bfqkkHCS5FSk",
        "outputId": "69c8b9e1-3c3b-45dd-aaeb-e041cd58eefd"
      },
      "execution_count": null,
      "outputs": [
        {
          "output_type": "stream",
          "name": "stdout",
          "text": [
            "Shape (2, 3)\n"
          ]
        }
      ]
    },
    {
      "cell_type": "code",
      "source": [
        "print(\"Size\",arr.size)"
      ],
      "metadata": {
        "colab": {
          "base_uri": "https://localhost:8080/"
        },
        "id": "faIg_h7t5JOp",
        "outputId": "5cd9b6d1-d55b-46f4-b104-0686cd72d6d4"
      },
      "execution_count": null,
      "outputs": [
        {
          "output_type": "stream",
          "name": "stdout",
          "text": [
            "Size 6\n"
          ]
        }
      ]
    },
    {
      "cell_type": "code",
      "source": [
        "print(\"Data Type:\",arr.dtype)"
      ],
      "metadata": {
        "colab": {
          "base_uri": "https://localhost:8080/"
        },
        "id": "4pFSyJeu5Net",
        "outputId": "913f4357-daae-4325-e1a7-65e32850aa29"
      },
      "execution_count": null,
      "outputs": [
        {
          "output_type": "stream",
          "name": "stdout",
          "text": [
            "Data Type: float64\n"
          ]
        }
      ]
    },
    {
      "cell_type": "code",
      "source": [
        "print(\"Element size (bytes)\",arr.itemsize)"
      ],
      "metadata": {
        "colab": {
          "base_uri": "https://localhost:8080/"
        },
        "id": "_tIzvjYL5Uhj",
        "outputId": "d1263442-827e-446f-9014-c469f640f1e2"
      },
      "execution_count": null,
      "outputs": [
        {
          "output_type": "stream",
          "name": "stdout",
          "text": [
            "Element size (bytes) 8\n"
          ]
        }
      ]
    },
    {
      "cell_type": "markdown",
      "source": [
        "arr.itemsize: This is an attribute of the NumPy array object arr. It returns an integer representing the number of bytes each individual element in the array occupies in memory. Since the array arr was created with dtype=np.float64, each element is a 64-bit floating-point number, which occupies 8 bytes (64 bits / 8 bits/byte = 8 bytes)."
      ],
      "metadata": {
        "id": "OoD30XVy_eIP"
      }
    },
    {
      "cell_type": "code",
      "source": [
        "print(\"Total memory used (bytes):\",arr.nbytes)"
      ],
      "metadata": {
        "colab": {
          "base_uri": "https://localhost:8080/"
        },
        "id": "SuND7Lxn5cDo",
        "outputId": "343be655-d7e8-4b0c-dac8-88b5243d0b9d"
      },
      "execution_count": null,
      "outputs": [
        {
          "output_type": "stream",
          "name": "stdout",
          "text": [
            "Total memory used (bytes): 48\n"
          ]
        }
      ]
    },
    {
      "cell_type": "markdown",
      "source": [
        "\n",
        "arr.size is 6 (2 rows * 3 columns).\n",
        "arr.itemsize is 8 bytes (for a float64).\n",
        "Therefore, arr.nbytes will be 6 * 8 = 48 bytes.\n"
      ],
      "metadata": {
        "id": "h4HKuNPx_thZ"
      }
    },
    {
      "cell_type": "code",
      "source": [
        "from ast import Constant\n",
        "# Array Creation and manipulation\n",
        "print(\"--Array Creation and manipulation--\")\n",
        "#2.1 Creating special arrays\n",
        "print(\"\\n-- Special Arrays--\")\n",
        "# Array of zeros\n",
        "zeros=np.zeros((3,4))\n",
        "print(\"Zeros :\\n \",zeros)\n",
        "# Array of ones\n",
        "ones=np.ones((2,3,2))\n",
        "print(\"\\n Ones:\\n\",ones)\n",
        "# Array with a constant value\n",
        "constant=np.full((2,3),7)\n",
        "print(\"\\n Constant array:\\n\",Constant)"
      ],
      "metadata": {
        "colab": {
          "base_uri": "https://localhost:8080/"
        },
        "id": "liKJfsum5kq1",
        "outputId": "6baa7c2c-d607-486f-a0b3-33bb5842519b"
      },
      "execution_count": null,
      "outputs": [
        {
          "output_type": "stream",
          "name": "stdout",
          "text": [
            "--Array Creation and manipulation--\n",
            "\n",
            "-- Special Arrays--\n",
            "Zeros :\n",
            "  [[0. 0. 0. 0.]\n",
            " [0. 0. 0. 0.]\n",
            " [0. 0. 0. 0.]]\n",
            "\n",
            " Ones:\n",
            " [[[1. 1.]\n",
            "  [1. 1.]\n",
            "  [1. 1.]]\n",
            "\n",
            " [[1. 1.]\n",
            "  [1. 1.]\n",
            "  [1. 1.]]]\n",
            "\n",
            " Constant array:\n",
            " <class 'ast.Constant'>\n"
          ]
        }
      ]
    },
    {
      "cell_type": "markdown",
      "source": [
        "### Syntax :of Zeros\n",
        "numpy.zeros()\n",
        "numpy.zeros(shape, dtype=float, order='C', *, like=None)"
      ],
      "metadata": {
        "id": "VXb-H308AEhb"
      }
    },
    {
      "cell_type": "markdown",
      "source": [
        "### Syntax of Ones\n",
        "numpy.ones(shape, dtype=None, order='C', *, device=None, like=None)"
      ],
      "metadata": {
        "id": "0-sqsANfAZI6"
      }
    },
    {
      "cell_type": "code",
      "source": [
        "# set a seed for reprodicibility\n",
        "np.random.seed(42)\n",
        "# Random integers\n",
        "# Use the randint function from the np.random module\n",
        "rand_ints = np.random.randint(0, 10, 5)\n",
        "print(\"Random integers (0-9):\",rand_ints)\n",
        "# Random floats (uniform distribution)\n",
        "rand_floats=np.random.random(5)\n",
        "print(\"Random floats (0-1)\",rand_floats)\n",
        "# Random floats in range\n",
        "rand_range=np.random.uniform(-1,1,5)\n",
        "print(\"Random floats(-1 to 1)\",rand_range)\n",
        "# 8.2 Distribution\n",
        "# Normal Distribution\n",
        "normal=np.random.normal(0,1,5) # mean=0 std=1\n",
        "print(\"Normal Distribution samples:\",normal)\n",
        "# Binomial Distribution\n",
        "binomial=np.random.normal(10,0.5,5) # n=10 p=0.5\n",
        "print(\"Binomial Distribution samples:\",binomial)\n",
        "# poisson distribution\n",
        "poission=np.random.poisson(3,5) # lambda=3\n",
        "print(\"Poissiob Distribution\",poission)\n",
        "#8.3 Random Sampling\n",
        "print(\"\\n Random Sampling\")\n",
        "Population=np.arange(10)\n",
        "print(\"Population:\",Population)\n",
        "# Random Choice\n",
        "choices=np.random.choice(Population,5)\n",
        "print(\"Sampled values:\",choices)\n",
        "# Random Choice with replacement\n",
        "choices_with_replacement=np.random.choice(Population,5,replace=True)\n",
        "print(\"Sampled values with replacement:\",choices_with_replacement)"
      ],
      "metadata": {
        "colab": {
          "base_uri": "https://localhost:8080/"
        },
        "id": "ykoL97WT6dcS",
        "outputId": "d865e60e-aafc-44f1-ceb7-c425c2ed5840"
      },
      "execution_count": null,
      "outputs": [
        {
          "output_type": "stream",
          "name": "stdout",
          "text": [
            "Random integers (0-9): [6 3 7 4 6]\n",
            "Random floats (0-1) [0.44583275 0.09997492 0.45924889 0.33370861 0.14286682]\n",
            "Random floats(-1 to 1) [ 0.30177695 -0.88717684  0.44399754  0.87710542 -0.99844247]\n",
            "Normal Distribution samples: [ 0.02222183 -0.42779291 -0.53181741 -0.1174755   0.2220789 ]\n",
            "Binomial Distribution samples: [ 9.61601175 10.0712323   9.98267391 10.56716963  9.94762723]\n",
            "Poissiob Distribution [2 3 2 3 3]\n",
            "\n",
            " Random Sampling\n",
            "Population: [0 1 2 3 4 5 6 7 8 9]\n",
            "Sampled values: [3 5 1 9 1]\n",
            "Sampled values with replacement: [9 3 7 6 8]\n"
          ]
        }
      ]
    },
    {
      "cell_type": "code",
      "source": [
        "# calculate the mean median and mode from this 2-D array:\n",
        "from scipy import stats\n",
        "\n",
        "# Creating a 2D array\n",
        "arr2d=np.array([[1,2,3],[4,5,6]])\n",
        "print(\"\\n2D array:\")\n",
        "print(arr2d)\n",
        "\n",
        "# Calculate mean\n",
        "mean_arr2d = np.mean(arr2d)\n",
        "print(\"Mean of the array:\", mean_arr2d)\n",
        "\n",
        "# Calculate median\n",
        "median_arr2d = np.median(arr2d)\n",
        "print(\"Median of the array:\", median_arr2d)\n",
        "\n",
        "# Calculate mode (requires scipy)\n",
        "mode_arr2d = stats.mode(arr2d.flatten())\n",
        "print(\"Mode of the array:\", mode_arr2d.mode[0])"
      ],
      "metadata": {
        "id": "aVRei68K86a8"
      },
      "execution_count": null,
      "outputs": []
    },
    {
      "cell_type": "markdown",
      "source": [
        "# Zips Laws inplementaion"
      ],
      "metadata": {
        "id": "DYVbMjfZA97g"
      }
    }
  ]
}