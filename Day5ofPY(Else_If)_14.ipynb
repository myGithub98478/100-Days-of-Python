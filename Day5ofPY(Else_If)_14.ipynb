{
  "nbformat": 4,
  "nbformat_minor": 0,
  "metadata": {
    "colab": {
      "provenance": []
    },
    "kernelspec": {
      "name": "python3",
      "display_name": "Python 3"
    },
    "language_info": {
      "name": "python"
    }
  },
  "cells": [
    {
      "cell_type": "markdown",
      "source": [
        "# If Else Conditional Statement in python"
      ],
      "metadata": {
        "id": "kD5k-6oThh2c"
      }
    },
    {
      "cell_type": "code",
      "source": [
        "# Program to check whether can drive or not\n",
        "user_age=int(input(\"Enter Your Age:\"))\n",
        "print(\"Your age is :\",user_age)\n",
        "# check user can drive or not\n",
        "if(user_age>=18):\n",
        "  print(\"You can Drive\")\n",
        "else:\n",
        "  print(\"You are under age ,You cannot drive\")"
      ],
      "metadata": {
        "colab": {
          "base_uri": "https://localhost:8080/"
        },
        "id": "NjDOKuApht3D",
        "outputId": "3356d769-25ac-40a9-8ae2-eaf9eaf38d14"
      },
      "execution_count": 3,
      "outputs": [
        {
          "output_type": "stream",
          "name": "stdout",
          "text": [
            "Enter Your Age:19\n",
            "Your age is : 19\n",
            "You can Drive\n",
            "If-else Program\n"
          ]
        }
      ]
    },
    {
      "cell_type": "code",
      "source": [
        "# Conditional Operators in Py\n",
        "#   >\n",
        "#  <\n",
        "#  >=\n",
        "#  <=\n",
        "#  ==\n",
        "# !="
      ],
      "metadata": {
        "id": "yyCXUaOcjBfg"
      },
      "execution_count": null,
      "outputs": []
    },
    {
      "cell_type": "code",
      "source": [
        "# Enter  the price of the iteams you want to purchase and check the budget and Add itea and add to cart\n",
        "smart_watch=float(input(\"Enter the price of smart_watch:$\"))\n",
        "smart_Tv=float(input(\"Enter the price of smart_Tv:$\"))\n",
        "smart_phone=float(input(\"Enter the price of smart_phone:$\"))\n",
        "print(\"\\t\\t\")\n",
        "balance=float(input(\"Enter the balance:$\"))\n",
        "total_item_price=float(smart_watch+smart_Tv+smart_phone)\n",
        "Remaining_balance=float(balance-total_item_price)\n",
        "if(total_item_price<balance):\n",
        "  print(\"\\t\")\n",
        "  print(\"You can add all the iteams to add to cart\")\n",
        "  print(\"Your Total bill is :$\",total_item_price)\n",
        "  print(\"\\t\\t\")\n",
        "  print(\"Your Remaining balance is :$\",Remaining_balance)\n",
        "elif(total_item_price==balance):\n",
        "  print(\"\\t\")\n",
        "  print(\"You can add all the iteams to add to cart but after this your account balance will be zero\")\n",
        "  print(\"Your Total bill is $:\",total_item_price)\n",
        "else:\n",
        "  print(\"\\t\")\n",
        "  print(\"You cannot add all the iteams to add to cart because:\")\n",
        "  print(\" your account balance is:$\",balance,\"\\nYour Total bill is :$\",total_item_price)"
      ],
      "metadata": {
        "colab": {
          "base_uri": "https://localhost:8080/"
        },
        "id": "va4GdXF0i9Ep",
        "outputId": "ee742b09-a768-4fdb-8c68-a136ab671dd3"
      },
      "execution_count": 17,
      "outputs": [
        {
          "output_type": "stream",
          "name": "stdout",
          "text": [
            "Enter the price of smart_watch:$100\n",
            "Enter the price of smart_Tv:$100\n",
            "Enter the price of smart_phone:$100\n",
            "\t\t\n",
            "Enter the balance:$5000\n",
            "\t\n",
            "You can add all the iteams to add to cart\n",
            "Your Total bill is :$ 300.0\n",
            "\t\t\n",
            "Your Remaining balance is :$ 4700.0\n"
          ]
        }
      ]
    }
  ]
}