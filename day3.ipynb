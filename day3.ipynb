{
  "nbformat": 4,
  "nbformat_minor": 0,
  "metadata": {
    "colab": {
      "provenance": []
    },
    "kernelspec": {
      "name": "python3",
      "display_name": "Python 3"
    },
    "language_info": {
      "name": "python"
    }
  },
  "cells": [
    {
      "cell_type": "markdown",
      "source": [
        "# 100 Days of Python Series"
      ],
      "metadata": {
        "id": "Kl6YAh3oADuU"
      }
    },
    {
      "cell_type": "markdown",
      "source": [
        "## Day -1"
      ],
      "metadata": {
        "id": "G8yOBYk4APfD"
      }
    },
    {
      "cell_type": "markdown",
      "source": [
        "### Topic -"
      ],
      "metadata": {
        "id": "NNiYIP6vAxFl"
      }
    },
    {
      "cell_type": "markdown",
      "source": [
        "python is a dynamically typed general purpose programming language"
      ],
      "metadata": {
        "id": "6vAkw7faCJ8l"
      }
    },
    {
      "cell_type": "code",
      "source": [
        "# print\n",
        "print(\"Hello World\")\n",
        "print(5)\n",
        "print(5+5)\n",
        "print(5*5)"
      ],
      "metadata": {
        "colab": {
          "base_uri": "https://localhost:8080/"
        },
        "id": "-1jrBgXGBCcd",
        "outputId": "d332905a-3a5b-442b-e7dc-ef20c6214fe0"
      },
      "execution_count": null,
      "outputs": [
        {
          "output_type": "stream",
          "name": "stdout",
          "text": [
            "Hello World\n",
            "5\n",
            "10\n",
            "25\n"
          ]
        }
      ]
    },
    {
      "cell_type": "markdown",
      "source": [
        "## Day-3"
      ],
      "metadata": {
        "id": "iaPrK6S5H64B"
      }
    },
    {
      "cell_type": "markdown",
      "source": [
        "### Modules and pip"
      ],
      "metadata": {
        "id": "e-FAI0C4H87N"
      }
    },
    {
      "cell_type": "markdown",
      "source": [],
      "metadata": {
        "id": "3nlNsQ8kImbz"
      }
    },
    {
      "cell_type": "code",
      "source": [
        "!pip3 install pandas"
      ],
      "metadata": {
        "colab": {
          "base_uri": "https://localhost:8080/"
        },
        "id": "OuyQZkHYLaeq",
        "outputId": "58cc4e3c-d6d8-4eff-e64d-8b776f027c5a"
      },
      "execution_count": null,
      "outputs": [
        {
          "output_type": "stream",
          "name": "stdout",
          "text": [
            "Requirement already satisfied: pandas in /usr/local/lib/python3.11/dist-packages (2.2.2)\n",
            "Requirement already satisfied: numpy>=1.23.2 in /usr/local/lib/python3.11/dist-packages (from pandas) (2.0.2)\n",
            "Requirement already satisfied: python-dateutil>=2.8.2 in /usr/local/lib/python3.11/dist-packages (from pandas) (2.9.0.post0)\n",
            "Requirement already satisfied: pytz>=2020.1 in /usr/local/lib/python3.11/dist-packages (from pandas) (2025.2)\n",
            "Requirement already satisfied: tzdata>=2022.7 in /usr/local/lib/python3.11/dist-packages (from pandas) (2025.2)\n",
            "Requirement already satisfied: six>=1.5 in /usr/local/lib/python3.11/dist-packages (from python-dateutil>=2.8.2->pandas) (1.17.0)\n"
          ]
        }
      ]
    },
    {
      "cell_type": "code",
      "source": [
        "import pandas\n",
        "import sklearn  # lib of machine learning"
      ],
      "metadata": {
        "id": "J9T3OUmMLzAe"
      },
      "execution_count": null,
      "outputs": []
    },
    {
      "cell_type": "code",
      "source": [
        "# REPL---> Read--Evaluate--print--loop"
      ],
      "metadata": {
        "id": "dRy2RwfUNCqg"
      },
      "execution_count": null,
      "outputs": []
    },
    {
      "cell_type": "code",
      "source": [
        "!pip3 install scikit-learn"
      ],
      "metadata": {
        "colab": {
          "base_uri": "https://localhost:8080/"
        },
        "id": "E3L2peVGMf0L",
        "outputId": "bd59c836-80d5-4898-fe80-e454162fa389"
      },
      "execution_count": null,
      "outputs": [
        {
          "output_type": "stream",
          "name": "stdout",
          "text": [
            "Requirement already satisfied: scikit-learn in /usr/local/lib/python3.11/dist-packages (1.6.1)\n",
            "Requirement already satisfied: numpy>=1.19.5 in /usr/local/lib/python3.11/dist-packages (from scikit-learn) (2.0.2)\n",
            "Requirement already satisfied: scipy>=1.6.0 in /usr/local/lib/python3.11/dist-packages (from scikit-learn) (1.15.3)\n",
            "Requirement already satisfied: joblib>=1.2.0 in /usr/local/lib/python3.11/dist-packages (from scikit-learn) (1.5.0)\n",
            "Requirement already satisfied: threadpoolctl>=3.1.0 in /usr/local/lib/python3.11/dist-packages (from scikit-learn) (3.6.0)\n"
          ]
        }
      ]
    },
    {
      "cell_type": "markdown",
      "source": [
        "### Built-in Modules in python"
      ],
      "metadata": {
        "id": "1jYH6Q8uOLTF"
      }
    },
    {
      "cell_type": "markdown",
      "source": [
        "## Day -4"
      ],
      "metadata": {
        "id": "Pj2bZXWxQONS"
      }
    },
    {
      "cell_type": "markdown",
      "source": [
        "### Our first program in python"
      ],
      "metadata": {
        "id": "J8B01O_TQTdR"
      }
    },
    {
      "cell_type": "code",
      "source": [
        "print(\"Hello Wordld\")"
      ],
      "metadata": {
        "colab": {
          "base_uri": "https://localhost:8080/"
        },
        "id": "g7CIvXrtQYHL",
        "outputId": "77a1d262-3cca-4b05-9b65-21e86cac6ae3"
      },
      "execution_count": null,
      "outputs": [
        {
          "output_type": "stream",
          "name": "stdout",
          "text": [
            "Hello Wordld\n"
          ]
        }
      ]
    },
    {
      "cell_type": "code",
      "source": [
        "print(5)"
      ],
      "metadata": {
        "colab": {
          "base_uri": "https://localhost:8080/"
        },
        "id": "a9xRjBvaSFyV",
        "outputId": "894e623b-2d25-4b14-b31c-3430f3457656"
      },
      "execution_count": null,
      "outputs": [
        {
          "output_type": "stream",
          "name": "stdout",
          "text": [
            "5\n"
          ]
        }
      ]
    },
    {
      "cell_type": "code",
      "source": [
        "print(\"Hello\",5,\"Golu Molu\")"
      ],
      "metadata": {
        "colab": {
          "base_uri": "https://localhost:8080/"
        },
        "id": "8zhovUSuSH_-",
        "outputId": "3f428796-a990-40ee-f0d8-f1bd264dc659"
      },
      "execution_count": null,
      "outputs": [
        {
          "output_type": "stream",
          "name": "stdout",
          "text": [
            "Hello 5 Golu Molu\n"
          ]
        }
      ]
    },
    {
      "cell_type": "markdown",
      "source": [
        "## Day-5"
      ],
      "metadata": {
        "id": "UtquSdL5eLf7"
      }
    },
    {
      "cell_type": "markdown",
      "source": [
        "#### comments in python"
      ],
      "metadata": {
        "id": "3AGmD9IXeeFF"
      }
    },
    {
      "cell_type": "code",
      "source": [
        "# comments in python\n",
        "print(\"My name is Ashish \\nand i am a good boy\")\n",
        "# \\n is a escape sequence character"
      ],
      "metadata": {
        "colab": {
          "base_uri": "https://localhost:8080/"
        },
        "id": "GEXvVOpfeNu9",
        "outputId": "5508d711-9e88-42bb-d82e-85752cb98ff0"
      },
      "execution_count": null,
      "outputs": [
        {
          "output_type": "stream",
          "name": "stdout",
          "text": [
            "My name is Ashish \n",
            "and i am a good boy\n"
          ]
        }
      ]
    },
    {
      "cell_type": "code",
      "source": [
        "# this is a single line comment\n",
        "'''\n",
        "this is multi-line comment in python\n",
        "'''\n",
        "\n",
        "\"\"\"\n",
        "this is also a multi-line comment\n",
        "\"\"\""
      ],
      "metadata": {
        "colab": {
          "base_uri": "https://localhost:8080/",
          "height": 36
        },
        "id": "NMdHQB2Jgksk",
        "outputId": "7f5a90c2-16e6-49eb-aadd-ab245970fb23"
      },
      "execution_count": null,
      "outputs": [
        {
          "output_type": "execute_result",
          "data": {
            "text/plain": [
              "'\\nthis is also a multi-line comment\\n'"
            ],
            "application/vnd.google.colaboratory.intrinsic+json": {
              "type": "string"
            }
          },
          "metadata": {},
          "execution_count": 9
        }
      ]
    },
    {
      "cell_type": "markdown",
      "source": [
        "### escape sequence charavter"
      ],
      "metadata": {
        "id": "cOdnwktLjKhv"
      }
    },
    {
      "cell_type": "code",
      "source": [
        "print(\"My name is Ashish \\n and i am a good boy\")"
      ],
      "metadata": {
        "colab": {
          "base_uri": "https://localhost:8080/"
        },
        "id": "spcm_pLBjQ6_",
        "outputId": "10abb4ac-4485-493b-861b-b0ca1b937c54"
      },
      "execution_count": null,
      "outputs": [
        {
          "output_type": "stream",
          "name": "stdout",
          "text": [
            "My name is Ashish \n",
            " and i am a good boy\n"
          ]
        }
      ]
    },
    {
      "cell_type": "markdown",
      "source": [
        "## Day -6"
      ],
      "metadata": {
        "id": "cRGu9GsQJnQa"
      }
    },
    {
      "cell_type": "markdown",
      "source": [
        "## Variables in python\n",
        "- variables are like containers that hold data"
      ],
      "metadata": {
        "id": "2K971MAYM7Da"
      }
    },
    {
      "cell_type": "code",
      "source": [
        "#integer\n",
        "\n",
        "a=16535882643\n",
        "print(a)\n",
        "\n",
        "#string -whenever we are assigning a string in py use \"double-quotation\"\n",
        "\n",
        "b=\"Ashish\"\n",
        "print(b)\n",
        "\n",
        "#Boolean\n",
        "c=True\n",
        "print(c)\n",
        "\n",
        "#float\n",
        "d=5.6\n",
        "print(d)\n",
        "\n",
        "# complex number\n",
        "e=complex( 5,6)\n",
        "print(e)\n",
        "# another way for complex number\n",
        "f=5+6j\n",
        "print(f)\n",
        "\n",
        "# None\n",
        "d=None\n",
        "print(d)"
      ],
      "metadata": {
        "colab": {
          "base_uri": "https://localhost:8080/"
        },
        "id": "M8jU5SimNTQO",
        "outputId": "2c2890dc-0242-4b8e-ccb1-0e8d4dab5c77"
      },
      "execution_count": null,
      "outputs": [
        {
          "output_type": "stream",
          "name": "stdout",
          "text": [
            "16535882643\n",
            "Ashish\n",
            "True\n",
            "5.6\n",
            "(5+6j)\n",
            "(5+6j)\n",
            "None\n"
          ]
        }
      ]
    },
    {
      "cell_type": "markdown",
      "source": [
        "##  Data Type"
      ],
      "metadata": {
        "id": "E2yP0fCFOCAQ"
      }
    },
    {
      "cell_type": "code",
      "source": [
        "# we cannot add  string  with integer\n",
        "print(a+b)"
      ],
      "metadata": {
        "colab": {
          "base_uri": "https://localhost:8080/",
          "height": 141
        },
        "id": "nhOL4nyvOGnc",
        "outputId": "23196b44-7abb-4f24-b92c-440e33469e63"
      },
      "execution_count": null,
      "outputs": [
        {
          "output_type": "error",
          "ename": "TypeError",
          "evalue": "unsupported operand type(s) for +: 'int' and 'str'",
          "traceback": [
            "\u001b[0;31m---------------------------------------------------------------------------\u001b[0m",
            "\u001b[0;31mTypeError\u001b[0m                                 Traceback (most recent call last)",
            "\u001b[0;32m<ipython-input-6-85111a3ab660>\u001b[0m in \u001b[0;36m<cell line: 0>\u001b[0;34m()\u001b[0m\n\u001b[0;32m----> 1\u001b[0;31m \u001b[0mprint\u001b[0m\u001b[0;34m(\u001b[0m\u001b[0ma\u001b[0m\u001b[0;34m+\u001b[0m\u001b[0mb\u001b[0m\u001b[0;34m)\u001b[0m\u001b[0;34m\u001b[0m\u001b[0;34m\u001b[0m\u001b[0m\n\u001b[0m",
            "\u001b[0;31mTypeError\u001b[0m: unsupported operand type(s) for +: 'int' and 'str'"
          ]
        }
      ]
    },
    {
      "cell_type": "code",
      "source": [
        "print(\"The type of variable-a is \",type(a))\n",
        "print(\"The type of variable-b is \",type(b))\n",
        "print(\"The type of variable-c is \",type(c))\n",
        "print(\"The type of variable-d is \",type(d))\n",
        "print(\"The type of variable-e is \",type(e))\n",
        "print(\"The type of variable-f is \",type(f))"
      ],
      "metadata": {
        "colab": {
          "base_uri": "https://localhost:8080/"
        },
        "id": "JW5GfAOuOUbP",
        "outputId": "6306a66e-23be-4341-da74-824bcc010353"
      },
      "execution_count": null,
      "outputs": [
        {
          "output_type": "stream",
          "name": "stdout",
          "text": [
            "The type of variable-a is  <class 'int'>\n",
            "The type of variable-b is  <class 'str'>\n",
            "The type of variable-c is  <class 'bool'>\n",
            "The type of variable-d is  <class 'NoneType'>\n",
            "The type of variable-e is  <class 'complex'>\n",
            "The type of variable-f is  <class 'complex'>\n"
          ]
        }
      ]
    },
    {
      "cell_type": "markdown",
      "source": [
        "#### List  and Tuples\n",
        "- list -ordered collection (collection of different data elements)\n",
        "- Tuples -Immutable but same as  list\n",
        "- # mutation means changes occure hunxa"
      ],
      "metadata": {
        "id": "vOEnVP0xaDVV"
      }
    },
    {
      "cell_type": "markdown",
      "source": [
        "#### Python dictionaries\n",
        "-collection of key value pair"
      ],
      "metadata": {
        "id": "yg8YolNiapmt"
      }
    },
    {
      "cell_type": "code",
      "source": [
        "# lists\n",
        "list1=[8,2,3,[-4,5]],[\"apple\",\"banana\"]\n",
        "print(list1)\n"
      ],
      "metadata": {
        "colab": {
          "base_uri": "https://localhost:8080/"
        },
        "id": "iVhAgHIXbApv",
        "outputId": "80424f2b-2383-4ffb-aa83-096e69aac17b"
      },
      "execution_count": null,
      "outputs": [
        {
          "output_type": "stream",
          "name": "stdout",
          "text": [
            "([8, 2, 3, [-4, 5]], ['apple', 'banana'])\n"
          ]
        }
      ]
    },
    {
      "cell_type": "code",
      "source": [
        "#tuple\n",
        "tuple1=((\"parrot\",\"sparrow\"),(\"Lion\",\"Tiger\"))\n",
        "print(tuple1)"
      ],
      "metadata": {
        "colab": {
          "base_uri": "https://localhost:8080/"
        },
        "id": "i8szkXWObVmV",
        "outputId": "cdcc5eb6-ad29-4263-db32-f9651f59e21d"
      },
      "execution_count": null,
      "outputs": [
        {
          "output_type": "stream",
          "name": "stdout",
          "text": [
            "(('parrot', 'sparrow'), ('Lion', 'Tiger'))\n"
          ]
        }
      ]
    },
    {
      "cell_type": "code",
      "source": [
        "# dictionary\n",
        "dict1={\"name\":\"Ashish\",\n",
        "       \"age\":20,\n",
        "       \"canVote\":True}\n",
        "print(dict1)"
      ],
      "metadata": {
        "colab": {
          "base_uri": "https://localhost:8080/"
        },
        "id": "vRnDTH0zbjFt",
        "outputId": "efb63703-f09e-420c-981f-89a484d70c75"
      },
      "execution_count": null,
      "outputs": [
        {
          "output_type": "stream",
          "name": "stdout",
          "text": [
            "{'name': 'Ashish', 'age': 20, 'canVote': True}\n"
          ]
        }
      ]
    },
    {
      "cell_type": "markdown",
      "source": [
        "### Note: python ma sabai kura object hunxa"
      ],
      "metadata": {
        "id": "_cxMiE5tbyKS"
      }
    },
    {
      "cell_type": "markdown",
      "source": [
        "# Day -7"
      ],
      "metadata": {
        "id": "gKbNHR0Sjm22"
      }
    },
    {
      "cell_type": "code",
      "source": [
        "print(10+10)\n",
        "print(15-25)\n",
        "print(15*6)\n",
        "\n",
        "# Exponential operator in python\n",
        "print(5**3) # this actually does 5*5*5 that is (5 lai 3 patak  multiple garni ya 5^3)\n",
        "\n",
        "# floor division operator\n",
        "print(5/2) # yo garda o/p = 2.5 aauxa\n",
        "# But\n",
        "print(5//2) # yo garda output 2 aauxa\n",
        "\n",
        "# % operator\n",
        "print(15%3)\n",
        "print(10%3)"
      ],
      "metadata": {
        "colab": {
          "base_uri": "https://localhost:8080/"
        },
        "id": "uOsMg1O7j0gL",
        "outputId": "8a1b5a81-7b02-4529-ab8d-e42dadf8548d"
      },
      "execution_count": null,
      "outputs": [
        {
          "output_type": "stream",
          "name": "stdout",
          "text": [
            "20\n",
            "-10\n",
            "90\n",
            "125\n",
            "2.5\n",
            "2\n",
            "0\n",
            "1\n"
          ]
        }
      ]
    },
    {
      "cell_type": "markdown",
      "source": [
        "# ## Exercise -01: Calculator using Python"
      ],
      "metadata": {
        "id": "3vBMTZEVmEAY"
      }
    },
    {
      "cell_type": "markdown",
      "source": [
        "- Create a calculator capable of performing addition , subtraction , multiplication and division operations on two numbers. Your program should format output in a readable mannner"
      ],
      "metadata": {
        "id": "oYdOij_zmFOw"
      }
    },
    {
      "cell_type": "code",
      "source": [
        "# Calculator\n",
        "input_first_number=input(\"Enter the first number\")\n",
        "input_second_number=input(\"Enter the second number\")\n",
        "#\n",
        "input_first_number=int(input_first_number)\n",
        "input_second_number=int(input_second_number)\n",
        "# Calculations\n",
        "#summation\n",
        "def summation(input_first_number,input_second_number):\n",
        "  sum =input_first_number+input_second_number\n",
        "  return sum\n",
        "#subtraction\n",
        "def subtraction(input_first_number,input_second_number):\n",
        "  sub =input_first_number - input_second_number\n",
        "  return sub\n",
        "#multiplication\n",
        "def multiplication(input_first_number,input_second_number):\n",
        "  mul =input_first_number*input_second_number\n",
        "  return mul\n",
        "#division\n",
        "def division(input_first_number,input_second_number):\n",
        "  div =input_first_number/input_second_number\n",
        "  return div\n",
        "\n",
        "#output\n",
        "print(\"The sum is :\",summation(input_first_number,input_second_number))\n",
        "print(\"The subtraction is :\",subtraction(input_first_number,input_second_number))\n",
        "print(\"The multiplication is :\",multiplication(input_first_number,input_second_number))\n",
        "print(\"The division is :\",division(input_first_number,input_second_number))\n"
      ],
      "metadata": {
        "id": "F6KbJF7fmhiA",
        "colab": {
          "base_uri": "https://localhost:8080/",
          "height": 384
        },
        "outputId": "f246e93f-8e0d-4e78-f939-0d8e345230ab"
      },
      "execution_count": null,
      "outputs": [
        {
          "output_type": "stream",
          "name": "stdout",
          "text": [
            "Enter the first number50\n",
            "Enter the second number0\n",
            "The sum is : 50\n",
            "The subtraction is : 50\n",
            "The multiplication is : 0\n"
          ]
        },
        {
          "output_type": "error",
          "ename": "ZeroDivisionError",
          "evalue": "division by zero",
          "traceback": [
            "\u001b[0;31m---------------------------------------------------------------------------\u001b[0m",
            "\u001b[0;31mZeroDivisionError\u001b[0m                         Traceback (most recent call last)",
            "\u001b[0;32m<ipython-input-14-0c8d161a0b09>\u001b[0m in \u001b[0;36m<cell line: 0>\u001b[0;34m()\u001b[0m\n\u001b[1;32m     27\u001b[0m \u001b[0mprint\u001b[0m\u001b[0;34m(\u001b[0m\u001b[0;34m\"The subtraction is :\"\u001b[0m\u001b[0;34m,\u001b[0m\u001b[0msubtraction\u001b[0m\u001b[0;34m(\u001b[0m\u001b[0minput_first_number\u001b[0m\u001b[0;34m,\u001b[0m\u001b[0minput_second_number\u001b[0m\u001b[0;34m)\u001b[0m\u001b[0;34m)\u001b[0m\u001b[0;34m\u001b[0m\u001b[0;34m\u001b[0m\u001b[0m\n\u001b[1;32m     28\u001b[0m \u001b[0mprint\u001b[0m\u001b[0;34m(\u001b[0m\u001b[0;34m\"The multiplication is :\"\u001b[0m\u001b[0;34m,\u001b[0m\u001b[0mmultiplication\u001b[0m\u001b[0;34m(\u001b[0m\u001b[0minput_first_number\u001b[0m\u001b[0;34m,\u001b[0m\u001b[0minput_second_number\u001b[0m\u001b[0;34m)\u001b[0m\u001b[0;34m)\u001b[0m\u001b[0;34m\u001b[0m\u001b[0;34m\u001b[0m\u001b[0m\n\u001b[0;32m---> 29\u001b[0;31m \u001b[0mprint\u001b[0m\u001b[0;34m(\u001b[0m\u001b[0;34m\"The division is :\"\u001b[0m\u001b[0;34m,\u001b[0m\u001b[0mdivision\u001b[0m\u001b[0;34m(\u001b[0m\u001b[0minput_first_number\u001b[0m\u001b[0;34m,\u001b[0m\u001b[0minput_second_number\u001b[0m\u001b[0;34m)\u001b[0m\u001b[0;34m)\u001b[0m\u001b[0;34m\u001b[0m\u001b[0;34m\u001b[0m\u001b[0m\n\u001b[0m",
            "\u001b[0;32m<ipython-input-14-0c8d161a0b09>\u001b[0m in \u001b[0;36mdivision\u001b[0;34m(input_first_number, input_second_number)\u001b[0m\n\u001b[1;32m     20\u001b[0m \u001b[0;31m#division\u001b[0m\u001b[0;34m\u001b[0m\u001b[0;34m\u001b[0m\u001b[0m\n\u001b[1;32m     21\u001b[0m \u001b[0;32mdef\u001b[0m \u001b[0mdivision\u001b[0m\u001b[0;34m(\u001b[0m\u001b[0minput_first_number\u001b[0m\u001b[0;34m,\u001b[0m\u001b[0minput_second_number\u001b[0m\u001b[0;34m)\u001b[0m\u001b[0;34m:\u001b[0m\u001b[0;34m\u001b[0m\u001b[0;34m\u001b[0m\u001b[0m\n\u001b[0;32m---> 22\u001b[0;31m   \u001b[0mdiv\u001b[0m \u001b[0;34m=\u001b[0m\u001b[0minput_first_number\u001b[0m\u001b[0;34m/\u001b[0m\u001b[0minput_second_number\u001b[0m\u001b[0;34m\u001b[0m\u001b[0;34m\u001b[0m\u001b[0m\n\u001b[0m\u001b[1;32m     23\u001b[0m   \u001b[0;32mreturn\u001b[0m \u001b[0mdiv\u001b[0m\u001b[0;34m\u001b[0m\u001b[0;34m\u001b[0m\u001b[0m\n\u001b[1;32m     24\u001b[0m \u001b[0;34m\u001b[0m\u001b[0m\n",
            "\u001b[0;31mZeroDivisionError\u001b[0m: division by zero"
          ]
        }
      ]
    },
    {
      "cell_type": "markdown",
      "source": [
        "## The error in this code is when user enters the second number =0 .so updating code"
      ],
      "metadata": {
        "id": "fCPhWf37UHUP"
      }
    },
    {
      "cell_type": "code",
      "source": [
        "# Calculator\n",
        "input_first_number=input(\"Enter the first number: \")\n",
        "input_second_number=input(\"Enter the second number: \")\n",
        "#\n",
        "input_first_number=int(input_first_number)\n",
        "input_second_number=int(input_second_number)\n",
        "# Calculations\n",
        "#summation\n",
        "def summation(input_first_number,input_second_number):\n",
        "  sum =input_first_number+input_second_number\n",
        "  return sum\n",
        "#subtraction\n",
        "def subtraction(input_first_number,input_second_number):\n",
        "  sub =input_first_number - input_second_number\n",
        "  return sub\n",
        "#multiplication\n",
        "def multiplication(input_first_number,input_second_number):\n",
        "     mul =input_first_number*input_second_number\n",
        "     return mul\n",
        "\n",
        "\n",
        "#division\n",
        "def division(input_first_number,input_second_number):\n",
        "  if(input_second_number!=0):\n",
        "    div=input_first_number/input_second_number\n",
        "    return div\n",
        "  else:\n",
        "    print(\"The second number cannot be zero\")\n",
        "  while input_second_number == 0:\n",
        "\n",
        "    print(\"Error: Division by zero. Please enter a non-zero second number.\")\n",
        "    input_second_number = input(\"Enter the second number again: \")\n",
        "    input_second_number = int(input_second_number)\n",
        "    div = input_first_number / input_second_number\n",
        "    return div\n",
        "\n",
        "\n",
        "#output\n",
        "print(\"The sum is :\",summation(input_first_number,input_second_number))\n",
        "print(\"The subtraction is :\",subtraction(input_first_number,input_second_number))\n",
        "print(\"The multiplication is :\",multiplication(input_first_number,input_second_number))\n",
        "print(\"The division is :\",division(input_first_number,input_second_number))\n"
      ],
      "metadata": {
        "colab": {
          "base_uri": "https://localhost:8080/"
        },
        "id": "6gb0H4IzUTPf",
        "outputId": "85b66f49-e3d6-41ed-d5a3-d4180eada6c4"
      },
      "execution_count": null,
      "outputs": [
        {
          "output_type": "stream",
          "name": "stdout",
          "text": [
            "Enter the first number: 10\n",
            "Enter the second number: 0\n",
            "The sum is : 10\n",
            "The subtraction is : 10\n",
            "The multiplication is : 0\n",
            "The second number cannot be zero\n",
            "Error: Division by zero. Please enter a non-zero second number.\n",
            "Enter the second number again: 2\n",
            "The division is : 5.0\n"
          ]
        }
      ]
    },
    {
      "cell_type": "markdown",
      "source": [
        "# Day -7\n",
        "# Example Solution"
      ],
      "metadata": {
        "id": "4AzEbiCSXfyw"
      }
    },
    {
      "cell_type": "code",
      "source": [
        "a=50\n",
        "b=3\n",
        "print(\"The value of\",a,\"+\",b,\"is\",a+b)\n",
        "print(\"The value of\",a,\"-\",b,\"is\",a-b)\n",
        "print(\"The value of\",a,\"*\",b,\"is\",a*b)\n",
        "print(\"The value of\",a,\"/\",b,\"is\",a/b)\n"
      ],
      "metadata": {
        "colab": {
          "base_uri": "https://localhost:8080/"
        },
        "id": "pzYPxtGdXsvr",
        "outputId": "3ba287a9-2ea7-4cac-ef19-291133fcc354"
      },
      "execution_count": null,
      "outputs": [
        {
          "output_type": "stream",
          "name": "stdout",
          "text": [
            "The value of 50 + 3 is 53\n",
            "The value of 50 - 3 is 47\n",
            "The value of 50 * 3 is 150\n",
            "The value of 50 / 3 is 16.666666666666668\n"
          ]
        }
      ]
    },
    {
      "cell_type": "markdown",
      "source": [
        "# Day-9"
      ],
      "metadata": {
        "id": "XgX7WbUpYjjY"
      }
    },
    {
      "cell_type": "markdown",
      "source": [
        "## Type Casting in Python"
      ],
      "metadata": {
        "id": "1vT5e-_2YnlW"
      }
    },
    {
      "cell_type": "markdown",
      "source": [
        "The conversion of one data type into the other data is known as type casting in python"
      ],
      "metadata": {
        "id": "f0lThwPGZa1-"
      }
    },
    {
      "cell_type": "code",
      "source": [
        "# Type casting in python\n",
        "a=\"1\"\n",
        "b=\"2\"\n",
        "print(a+b) # sum of strings\n",
        "print(int(a)+int(b)) # sum of integer\n",
        "# error\n",
        "a=\"1harry\" # invalid input with mixed\n",
        "\n"
      ],
      "metadata": {
        "colab": {
          "base_uri": "https://localhost:8080/"
        },
        "id": "qA9JfBdDYwMs",
        "outputId": "837fccd3-0300-4891-f8ac-ae524562951e"
      },
      "execution_count": null,
      "outputs": [
        {
          "output_type": "stream",
          "name": "stdout",
          "text": [
            "12\n"
          ]
        }
      ]
    },
    {
      "cell_type": "markdown",
      "source": [
        "## Types of Type conversion"
      ],
      "metadata": {
        "id": "j5hoeQ-famHN"
      }
    },
    {
      "cell_type": "markdown",
      "source": [
        "*Explicit conversion*\n",
        " - The conversion of one data type into another data type ,done via developer of programmer intension or  manually as per the requirement , is known as explicit type conversion"
      ],
      "metadata": {
        "id": "UTYbdVUXaigh"
      }
    },
    {
      "cell_type": "code",
      "source": [
        "string =\"15\"\n",
        "number=7\n",
        "string_number=int(string)\n",
        "print(number+string_number)"
      ],
      "metadata": {
        "colab": {
          "base_uri": "https://localhost:8080/"
        },
        "id": "zw14vntDa6cZ",
        "outputId": "f0fc881f-12a1-41ab-b1f5-c6e71c29feb3"
      },
      "execution_count": null,
      "outputs": [
        {
          "output_type": "stream",
          "name": "stdout",
          "text": [
            "22\n"
          ]
        }
      ]
    },
    {
      "cell_type": "markdown",
      "source": [
        "*Implicit conversion*\n",
        "- Data types in python do not have the same level i.e. ordersing of datatypes\n",
        "is not the same in python .Some of the data types have higher order, and some\n",
        "have lower order.While performing any operation on variables data types will be changed to the higher data type.\n",
        "According to the level,one data type is converted into other by python interpreter itself(automatically),This is called Implicit Type conversion"
      ],
      "metadata": {
        "id": "5lfQU6sNZvsD"
      }
    },
    {
      "cell_type": "code",
      "source": [
        "# Implicit type conversion\n",
        "c=1.9\n",
        "d=8\n",
        "print(c+d)\n",
        "print(\"The data-type of c is :\",type(c))\n",
        "print(\"The data-type of d is :\",type(d))\n",
        "print(\"The data-type of c+d is :\",type(c+d))\n",
        "# here in the print function , the code itself converts the d=8(integer value)\n",
        "# and give the answer in float to prevent from data-loss\n"
      ],
      "metadata": {
        "colab": {
          "base_uri": "https://localhost:8080/"
        },
        "id": "hlHOhs-G2TUr",
        "outputId": "7332c4ef-d3bc-4a39-fd9c-2321108a5953"
      },
      "execution_count": null,
      "outputs": [
        {
          "output_type": "stream",
          "name": "stdout",
          "text": [
            "9.9\n",
            "The data-type of c is : <class 'float'>\n",
            "The data-type of d is : <class 'int'>\n",
            "The data-type of c+d is : <class 'float'>\n"
          ]
        }
      ]
    },
    {
      "cell_type": "markdown",
      "source": [
        "# Day-10"
      ],
      "metadata": {
        "id": "bUo2k8_e3Pvn"
      }
    },
    {
      "cell_type": "markdown",
      "source": [
        "## User Input in python\n",
        "- used with input() function\n",
        "- takes string input"
      ],
      "metadata": {
        "id": "2Vy9mkXa3SQc"
      }
    },
    {
      "cell_type": "code",
      "source": [
        "a=input()\n",
        "print(\"The output of a is :\",a)"
      ],
      "metadata": {
        "colab": {
          "base_uri": "https://localhost:8080/"
        },
        "id": "WHIcY7j7ot4E",
        "outputId": "b3282eea-02f3-4957-9741-08b2edbc96a0"
      },
      "execution_count": null,
      "outputs": [
        {
          "output_type": "stream",
          "name": "stdout",
          "text": [
            "hey\n",
            "The output of a is hey\n"
          ]
        }
      ]
    },
    {
      "cell_type": "code",
      "source": [
        "name=input(\"Enter your name :\")\n",
        "print(\"Your name is \",name)"
      ],
      "metadata": {
        "colab": {
          "base_uri": "https://localhost:8080/"
        },
        "id": "4GmRlUrwo8H-",
        "outputId": "5f013e3e-adf1-4617-c62f-5a47735db741"
      },
      "execution_count": null,
      "outputs": [
        {
          "output_type": "stream",
          "name": "stdout",
          "text": [
            "Enter your name :Ashish\n",
            "Your name is  Ashish\n"
          ]
        }
      ]
    },
    {
      "cell_type": "code",
      "source": [
        "# Magic in python\n",
        "# python assumed that whatever the value you enter for the input function\n",
        "# it takes it as string\n",
        "num1=input(\"Enter first number:\")\n",
        "num2=input(\"Enter second number:\")\n",
        "print(num1+num2) # concatenate the number (it doesnot perform addition)"
      ],
      "metadata": {
        "colab": {
          "base_uri": "https://localhost:8080/"
        },
        "id": "p0L8s1a0pL3T",
        "outputId": "a5c18fca-fe6b-4a9c-b1e1-948c8f707f3a"
      },
      "execution_count": null,
      "outputs": [
        {
          "output_type": "stream",
          "name": "stdout",
          "text": [
            "Enter first number:10\n",
            "Enter second number:20\n",
            "1020\n"
          ]
        }
      ]
    },
    {
      "cell_type": "markdown",
      "source": [
        "- This is because ,the input function it takes as string\n"
      ],
      "metadata": {
        "id": "pwHRe15xpnvD"
      }
    },
    {
      "cell_type": "code",
      "source": [
        "num1=input(\"Enter first number:\")\n",
        "num2=input(\"Enter second number:\")\n",
        "print(int(num1)+int(num2))  # now this will convert the num1 and num2 data into 20int type"
      ],
      "metadata": {
        "colab": {
          "base_uri": "https://localhost:8080/"
        },
        "id": "evaLHtlipxxW",
        "outputId": "7c0f28f3-1966-430b-c152-b69c04e59ee1"
      },
      "execution_count": null,
      "outputs": [
        {
          "output_type": "stream",
          "name": "stdout",
          "text": [
            "Enter first number:10\n",
            "Enter second number:20\n",
            "30\n"
          ]
        }
      ]
    },
    {
      "cell_type": "code",
      "source": [
        "# what if user enters the sting instead of number\n",
        "num1=input(\"Enter first number:\")\n",
        "num2=input(\"Enter second number:\")\n",
        "print(int(num1)+int(num2)) # concatenate the number (it doesnot perform addition)"
      ],
      "metadata": {
        "colab": {
          "base_uri": "https://localhost:8080/",
          "height": 211
        },
        "id": "tyCAUs_vqF0g",
        "outputId": "0097d6f1-f6e1-4a82-bd2d-2b95ae31839f"
      },
      "execution_count": null,
      "outputs": [
        {
          "name": "stdout",
          "output_type": "stream",
          "text": [
            "Enter first number:10\n",
            "Enter second number:ashish\n"
          ]
        },
        {
          "output_type": "error",
          "ename": "ValueError",
          "evalue": "invalid literal for int() with base 10: 'ashish'",
          "traceback": [
            "\u001b[0;31m---------------------------------------------------------------------------\u001b[0m",
            "\u001b[0;31mValueError\u001b[0m                                Traceback (most recent call last)",
            "\u001b[0;32m<ipython-input-8-712f47064227>\u001b[0m in \u001b[0;36m<cell line: 0>\u001b[0;34m()\u001b[0m\n\u001b[1;32m      2\u001b[0m \u001b[0mnum1\u001b[0m\u001b[0;34m=\u001b[0m\u001b[0minput\u001b[0m\u001b[0;34m(\u001b[0m\u001b[0;34m\"Enter first number:\"\u001b[0m\u001b[0;34m)\u001b[0m\u001b[0;34m\u001b[0m\u001b[0;34m\u001b[0m\u001b[0m\n\u001b[1;32m      3\u001b[0m \u001b[0mnum2\u001b[0m\u001b[0;34m=\u001b[0m\u001b[0minput\u001b[0m\u001b[0;34m(\u001b[0m\u001b[0;34m\"Enter second number:\"\u001b[0m\u001b[0;34m)\u001b[0m\u001b[0;34m\u001b[0m\u001b[0;34m\u001b[0m\u001b[0m\n\u001b[0;32m----> 4\u001b[0;31m \u001b[0mprint\u001b[0m\u001b[0;34m(\u001b[0m\u001b[0mint\u001b[0m\u001b[0;34m(\u001b[0m\u001b[0mnum1\u001b[0m\u001b[0;34m)\u001b[0m\u001b[0;34m+\u001b[0m\u001b[0mint\u001b[0m\u001b[0;34m(\u001b[0m\u001b[0mnum2\u001b[0m\u001b[0;34m)\u001b[0m\u001b[0;34m)\u001b[0m \u001b[0;31m# concatenate the number (it doesnot perform addition)\u001b[0m\u001b[0;34m\u001b[0m\u001b[0;34m\u001b[0m\u001b[0m\n\u001b[0m",
            "\u001b[0;31mValueError\u001b[0m: invalid literal for int() with base 10: 'ashish'"
          ]
        }
      ]
    },
    {
      "cell_type": "code",
      "source": [
        "print(\"Enter your name:\")\n",
        "name = input()\n",
        "print(f\"Hello {name}\")\n"
      ],
      "metadata": {
        "colab": {
          "base_uri": "https://localhost:8080/"
        },
        "id": "MMQjzJ1r8O6T",
        "outputId": "a3c17409-77e0-4c57-d4a6-c6f130134ff5"
      },
      "execution_count": null,
      "outputs": [
        {
          "output_type": "stream",
          "name": "stdout",
          "text": [
            "Enter your name:\n",
            "assssssss\n",
            "assssssss\n"
          ]
        }
      ]
    },
    {
      "cell_type": "markdown",
      "source": [
        "# Day 11"
      ],
      "metadata": {
        "id": "TtmKV29Qqj4k"
      }
    },
    {
      "cell_type": "markdown",
      "source": [
        "## String in Python"
      ],
      "metadata": {
        "id": "j-JvTReCqlSM"
      }
    },
    {
      "cell_type": "markdown",
      "source": [
        "- Strings in python are surrounded by either single(') quotation marks(\"), or double quotation marks.\n",
        "\n",
        "- 'hello' is the same as \"hello\".\n",
        "\n",
        "- You can display a string literal with the print() function:"
      ],
      "metadata": {
        "id": "Z-t7LSsuqnhX"
      }
    },
    {
      "cell_type": "markdown",
      "source": [
        "### Quotes Inside Quotes"
      ],
      "metadata": {
        "id": "LZDEJ4_d90Wv"
      }
    },
    {
      "cell_type": "code",
      "source": [
        "print('\"Hello Ashish\",How are you?')# we can use the"
      ],
      "metadata": {
        "colab": {
          "base_uri": "https://localhost:8080/"
        },
        "id": "ZuYJu2JC91kt",
        "outputId": "6bd18f93-74a3-472f-ebb5-790445e4ec80"
      },
      "execution_count": null,
      "outputs": [
        {
          "output_type": "stream",
          "name": "stdout",
          "text": [
            "\"Hello Ashish\",How are you?\n"
          ]
        }
      ]
    },
    {
      "cell_type": "code",
      "source": [
        "print(\"It's alright\")\n",
        "print(\"He is called 'Johnny'\")\n",
        "print('He is called \"Johnny\"')"
      ],
      "metadata": {
        "id": "tN3W1OpF-Sco"
      },
      "execution_count": null,
      "outputs": []
    },
    {
      "cell_type": "markdown",
      "source": [
        "#### Multiline Strings\n",
        "    You can assign a multiline string to a variable by using three quotes:"
      ],
      "metadata": {
        "id": "SK5Rigsi-WPV"
      }
    },
    {
      "cell_type": "code",
      "source": [
        "# USing double Quotes\n",
        "essay=\"\"\" Today is a blank page.\n",
        "Whatever happened yesterday is already written — but today, you hold the pen.\n",
        "Start with courage.\n",
        "Speak with kindness.\n",
        "Act with purpose.\n",
        "Even the smallest effort in the right direction shifts your story.\n",
        "You're not here by accident — you are building something only you can create.\n",
        "So take a breath. Stand tall. And step forward.\n",
        "\n",
        "The world needs what you bring. 🌟\"\"\"\n",
        "print(essay)"
      ],
      "metadata": {
        "colab": {
          "base_uri": "https://localhost:8080/"
        },
        "id": "V6VriNJy-bsi",
        "outputId": "6b7b66d4-af38-41aa-d369-dbadc19808de"
      },
      "execution_count": null,
      "outputs": [
        {
          "output_type": "stream",
          "name": "stdout",
          "text": [
            " Today is a blank page.\n",
            "Whatever happened yesterday is already written — but today, you hold the pen.\n",
            "Start with courage.\n",
            "Speak with kindness.\n",
            "Act with purpose.\n",
            "Even the smallest effort in the right direction shifts your story.\n",
            "You're not here by accident — you are building something only you can create.\n",
            "So take a breath. Stand tall. And step forward.\n",
            "\n",
            "The world needs what you bring. 🌟\n"
          ]
        }
      ]
    },
    {
      "cell_type": "code",
      "source": [
        "aboutMyself='''You are stronger than you think.\n",
        "Not because life has been easy,\n",
        "but because you’ve kept going when it wasn’t.\n",
        "\n",
        "Every sunrise is proof that no matter the darkness,\n",
        "light always returns.\n",
        "\n",
        "Today, trust your journey.\n",
        "Grow from the challenges.\n",
        "Shine, not because everything is perfect —\n",
        "but because you choose to rise anyway.'''\n",
        "print(aboutMyself)"
      ],
      "metadata": {
        "colab": {
          "base_uri": "https://localhost:8080/"
        },
        "id": "VQ4AJPdm-8pE",
        "outputId": "8ff0094d-1b86-431e-aacc-0fc86eeaba97"
      },
      "execution_count": null,
      "outputs": [
        {
          "output_type": "stream",
          "name": "stdout",
          "text": [
            "You are stronger than you think.\n",
            "Not because life has been easy,\n",
            "but because you’ve kept going when it wasn’t.\n",
            "\n",
            "Every sunrise is proof that no matter the darkness,\n",
            "light always returns.\n",
            "\n",
            "Today, trust your journey.\n",
            "Grow from the challenges.\n",
            "Shine, not because everything is perfect —\n",
            "but because you choose to rise anyway.\n"
          ]
        }
      ]
    },
    {
      "cell_type": "code",
      "source": [
        "var=\"Hello World\"\n",
        "print(var[0])\n",
        "print(var[1])\n",
        "print(var[2])\n",
        "print(var[3])\n",
        "print(var[4])\n",
        "print(var[5])\n",
        "print(var[6])\n",
        "print(var[7])\n",
        "print(var[8])\n",
        "print(var[9])\n",
        "print(var[10])"
      ],
      "metadata": {
        "colab": {
          "base_uri": "https://localhost:8080/"
        },
        "id": "7UReewP0JP7M",
        "outputId": "e8bc7d1b-56b0-4929-f1e4-48b24fc21b45"
      },
      "execution_count": null,
      "outputs": [
        {
          "output_type": "stream",
          "name": "stdout",
          "text": [
            "H\n",
            "e\n",
            "l\n",
            "l\n",
            "o\n",
            " \n",
            "W\n",
            "o\n",
            "r\n",
            "l\n",
            "d\n"
          ]
        }
      ]
    },
    {
      "cell_type": "code",
      "source": [
        "var=\"Hello World\"\n",
        "print(var[-1])\n",
        "print(var[-2])"
      ],
      "metadata": {
        "colab": {
          "base_uri": "https://localhost:8080/"
        },
        "id": "91VXB-kkJdWz",
        "outputId": "401ca6b7-6205-49d7-e7e1-f4ff648f4db5"
      },
      "execution_count": null,
      "outputs": [
        {
          "output_type": "stream",
          "name": "stdout",
          "text": [
            "d\n",
            "l\n"
          ]
        }
      ]
    },
    {
      "cell_type": "code",
      "source": [
        "var=\"Hello World\"\n",
        "for i in var:\n",
        "   print(i)"
      ],
      "metadata": {
        "colab": {
          "base_uri": "https://localhost:8080/"
        },
        "id": "5NKA3oRBJiSe",
        "outputId": "ab661b3b-d7d2-461e-cec8-3c2a5923a4c1"
      },
      "execution_count": null,
      "outputs": [
        {
          "output_type": "stream",
          "name": "stdout",
          "text": [
            "H\n",
            "e\n",
            "l\n",
            "l\n",
            "o\n",
            " \n",
            "W\n",
            "o\n",
            "r\n",
            "l\n",
            "d\n"
          ]
        }
      ]
    },
    {
      "cell_type": "code",
      "source": [
        "name=\"Ashish Acharya\"\n",
        "print(len(name)) # to print the length of string-->len() function is used"
      ],
      "metadata": {
        "colab": {
          "base_uri": "https://localhost:8080/"
        },
        "id": "UL3YyRxVKUhV",
        "outputId": "2506ca63-95dd-4884-b02f-7ae71e938136"
      },
      "execution_count": null,
      "outputs": [
        {
          "output_type": "stream",
          "name": "stdout",
          "text": [
            "14\n"
          ]
        }
      ]
    },
    {
      "cell_type": "markdown",
      "source": [
        "# String Slicing and Operations on String in Python"
      ],
      "metadata": {
        "id": "7WLgATQeI4pR"
      }
    },
    {
      "cell_type": "code",
      "source": [
        "name=\"Ashish Acharya\"\n",
        "# print(name[0:5]) # 0 to n-1 samma print garxa\n",
        "# print(len(name))\n",
        "# print(name[0:14])\n",
        "# # if 0 is not provided\n",
        "# print(name[:14])\n",
        "# print(name[:])\n",
        "# print(name[1:])\n",
        "# print(name[0:-3]) # 0 to len(name)-3\n",
        "# print(name[-1:-3])\n",
        "# print(name[-1:len(name)-3])\n",
        "name2=\"Ashish\"\n",
        "print(name2[-2:len(name)-3])"
      ],
      "metadata": {
        "colab": {
          "base_uri": "https://localhost:8080/"
        },
        "id": "r1y6x4OsJCdj",
        "outputId": "d5e8b40a-fd26-4408-e8aa-f9a50142d87e"
      },
      "execution_count": null,
      "outputs": [
        {
          "output_type": "stream",
          "name": "stdout",
          "text": [
            "sh\n"
          ]
        }
      ]
    },
    {
      "cell_type": "code",
      "source": [
        "test=\"Hello\"\n",
        "print(test)\n",
        "print(len(test)) # to count the length of string it starts with 1\n",
        "# but the indexing starts with zero(0)\n",
        "print(test[-1:-3])\n",
        "print(test[-3:-1]) # 2 to 3\n"
      ],
      "metadata": {
        "colab": {
          "base_uri": "https://localhost:8080/"
        },
        "id": "ivmgYSBmOJBB",
        "outputId": "7f964f31-60c0-43ef-aa4b-4adf72c18fc9"
      },
      "execution_count": null,
      "outputs": [
        {
          "output_type": "stream",
          "name": "stdout",
          "text": [
            "Hello\n",
            "5\n",
            "\n",
            "ll\n"
          ]
        }
      ]
    },
    {
      "cell_type": "markdown",
      "source": [
        "\n",
        "\n",
        "```\n",
        "# This is formatted as code -40\n",
        "-1:-3 means\n",
        "-1 = length of string -1 to length of string -3 and again -1 because it goes upto a to n-1\n",
        "so here\n",
        "test =\"Ashish\" ma  length of string(n)=5\n",
        "-1 means = len(test)-1=5-1=4 to\n",
        "-3 means =len(test)-3=5-3=2 and apply(n-1) i.e.=2-1=1\n",
        "```\n",
        "\n"
      ],
      "metadata": {
        "id": "ix_Udy07Ol8c"
      }
    },
    {
      "cell_type": "code",
      "source": [
        "nm=\"Harry\"\n",
        "print(nm[-4:-3])\n",
        "# 1 to 2 but (n-1)=2-1=1\n",
        "# print only a because index here starts with 0"
      ],
      "metadata": {
        "colab": {
          "base_uri": "https://localhost:8080/"
        },
        "id": "npZrcgTTP1_1",
        "outputId": "abca57e2-2903-4871-e076-28152aeb8694"
      },
      "execution_count": null,
      "outputs": [
        {
          "output_type": "stream",
          "name": "stdout",
          "text": [
            "a\n"
          ]
        }
      ]
    }
  ]
}