{
  "nbformat": 4,
  "nbformat_minor": 0,
  "metadata": {
    "colab": {
      "provenance": []
    },
    "kernelspec": {
      "name": "python3",
      "display_name": "Python 3"
    },
    "language_info": {
      "name": "python"
    }
  },
  "cells": [
    {
      "cell_type": "markdown",
      "source": [
        "# Day-1"
      ],
      "metadata": {
        "id": "EDOSPOC5eIzQ"
      }
    },
    {
      "cell_type": "markdown",
      "source": [
        "## Learn Python\n"
      ],
      "metadata": {
        "id": "bFDob4MDeMjr"
      }
    },
    {
      "cell_type": "markdown",
      "source": [
        "- Python is a popular programming language.\n",
        "\n",
        "- Python can be used on a server to create web applications."
      ],
      "metadata": {
        "id": "6XsSB6xdeQFL"
      }
    },
    {
      "cell_type": "markdown",
      "source": [
        "## Learning by Examples"
      ],
      "metadata": {
        "id": "0Dd532AreVoy"
      }
    },
    {
      "cell_type": "code",
      "source": [
        "print(\"Hello,World!!!\")"
      ],
      "metadata": {
        "colab": {
          "base_uri": "https://localhost:8080/"
        },
        "id": "-Q7rXiEYeW3G",
        "outputId": "5293d4c4-53f7-497c-f8bb-6e78819835c4"
      },
      "execution_count": null,
      "outputs": [
        {
          "output_type": "stream",
          "name": "stdout",
          "text": [
            "Hello,World!!!\n"
          ]
        }
      ]
    },
    {
      "cell_type": "markdown",
      "source": [
        "### What is Python?"
      ],
      "metadata": {
        "id": "qybGcag0efQx"
      }
    },
    {
      "cell_type": "markdown",
      "source": [
        "\n",
        "- It was created by Guido van Rossum, and released in 1991."
      ],
      "metadata": {
        "id": "uRVWzP6feg5y"
      }
    },
    {
      "cell_type": "markdown",
      "source": [
        " #### It is used for:\n",
        "\n",
        "    - web development (server-side),\n",
        "    - software development,\n",
        "    - mathematics,\n",
        "    - system scripting.\n"
      ],
      "metadata": {
        "id": "rXg7AcrOev5W"
      }
    },
    {
      "cell_type": "markdown",
      "source": [
        "What can Python do?\n",
        "\n",
        "    Python can be used on a server to create web applications.\n",
        "    Python can be used alongside software to create workflows.\n",
        "    Python can connect to database systems. It can also read and modify files.\n",
        "    Python can be used to handle big data and perform complex mathematics.\n",
        "    Python can be used for rapid prototyping, or for production-ready software development.\n"
      ],
      "metadata": {
        "id": "xuZjL0TCe9Yx"
      }
    },
    {
      "cell_type": "markdown",
      "source": [
        "Why Python?\n",
        "\n",
        "    Python works on different platforms (Windows, Mac, Linux, Raspberry Pi, etc).\n",
        "    Python has a simple syntax similar to the English language.\n",
        "    Python has syntax that allows developers to write programs with fewer lines than some other programming languages.\n",
        "    Python runs on an interpreter system, meaning that code can be executed as soon as it is written. This means that prototyping can be very quick.\n",
        "    Python can be treated in a procedural way, an object-oriented way or a functional way.\n"
      ],
      "metadata": {
        "id": "s142Y25Be_ai"
      }
    },
    {
      "cell_type": "markdown",
      "source": [
        "# Day-2"
      ],
      "metadata": {
        "id": "JVIvdb6DfHxm"
      }
    },
    {
      "cell_type": "code",
      "source": [
        "import sys\n",
        "\n",
        "print(sys.version)"
      ],
      "metadata": {
        "colab": {
          "base_uri": "https://localhost:8080/"
        },
        "id": "9Vn4XyCXfLXz",
        "outputId": "44efa673-a789-425e-a6d3-b6fe808a0e9a"
      },
      "execution_count": null,
      "outputs": [
        {
          "output_type": "stream",
          "name": "stdout",
          "text": [
            "3.11.12 (main, Apr  9 2025, 08:55:54) [GCC 11.4.0]\n"
          ]
        }
      ]
    },
    {
      "cell_type": "markdown",
      "source": [
        "## Python Indentation\n",
        "\n"
      ],
      "metadata": {
        "id": "N_Mfj7RAfUb6"
      }
    },
    {
      "cell_type": "markdown",
      "source": [
        "- Indentation refers to the spaces at the beginning of a code line.\n",
        "  Where in other programming languages the indentation in code is for readability only, the indentation in Python is very important.\n",
        "\n",
        "- Python uses indentation to indicate a block of code."
      ],
      "metadata": {
        "id": "Vwwbl9npfXsY"
      }
    },
    {
      "cell_type": "code",
      "source": [
        "if 5 > 2:\n",
        "print(\"Five is greater than two!\")"
      ],
      "metadata": {
        "colab": {
          "base_uri": "https://localhost:8080/",
          "height": 106
        },
        "id": "BJ4f38J7fuPE",
        "outputId": "56b5db72-7c19-4d89-a3c0-11bd86e8639c"
      },
      "execution_count": null,
      "outputs": [
        {
          "output_type": "error",
          "ename": "IndentationError",
          "evalue": "expected an indented block after 'if' statement on line 1 (<ipython-input-5-a314491c53bb>, line 2)",
          "traceback": [
            "\u001b[0;36m  File \u001b[0;32m\"<ipython-input-5-a314491c53bb>\"\u001b[0;36m, line \u001b[0;32m2\u001b[0m\n\u001b[0;31m    print(\"Five is greater than two!\")\u001b[0m\n\u001b[0m    ^\u001b[0m\n\u001b[0;31mIndentationError\u001b[0m\u001b[0;31m:\u001b[0m expected an indented block after 'if' statement on line 1\n"
          ]
        }
      ]
    },
    {
      "cell_type": "markdown",
      "source": [
        "##  Note:\n",
        "This error is due to indendation in python"
      ],
      "metadata": {
        "id": "2gUTkjATfxeV"
      }
    },
    {
      "cell_type": "code",
      "source": [
        "if 5>2:\n",
        "  print(\"5 is greater than 2\") # Indentation"
      ],
      "metadata": {
        "colab": {
          "base_uri": "https://localhost:8080/"
        },
        "id": "z-qOHX7EfiO9",
        "outputId": "5b71986f-c32d-42a7-b451-5900c621cb59"
      },
      "execution_count": null,
      "outputs": [
        {
          "output_type": "stream",
          "name": "stdout",
          "text": [
            "5 is greater than 2\n"
          ]
        }
      ]
    },
    {
      "cell_type": "markdown",
      "source": [
        "## Note\n",
        "we have to use the same number of spaces in the same block of code          otherwise Python will give you an error:"
      ],
      "metadata": {
        "id": "Xqk2V0RWgSKf"
      }
    },
    {
      "cell_type": "code",
      "source": [
        "if 3>2:\n",
        "  print(\"3 is greater than 2\")\n",
        "        print(\" Five is greater than two\")\n",
        "# error due to :The number of spaces  is up to you as a programmer, the most common use is four, but it has to be at least one."
      ],
      "metadata": {
        "colab": {
          "base_uri": "https://localhost:8080/",
          "height": 106
        },
        "id": "wXufUHyjgEtz",
        "outputId": "7f96de45-7d2e-4df0-a82c-ee01e55a9de4"
      },
      "execution_count": null,
      "outputs": [
        {
          "output_type": "error",
          "ename": "IndentationError",
          "evalue": "unexpected indent (<ipython-input-1-a3db623f51ed>, line 3)",
          "traceback": [
            "\u001b[0;36m  File \u001b[0;32m\"<ipython-input-1-a3db623f51ed>\"\u001b[0;36m, line \u001b[0;32m3\u001b[0m\n\u001b[0;31m    print(\" Five is greater than two\")\u001b[0m\n\u001b[0m    ^\u001b[0m\n\u001b[0;31mIndentationError\u001b[0m\u001b[0;31m:\u001b[0m unexpected indent\n"
          ]
        }
      ]
    },
    {
      "cell_type": "code",
      "source": [
        "if 5 > 2:\n",
        " print(\"Five is greater than two!\")\n",
        "if 5 > 2:\n",
        "        print(\"Five is greater than two!\")"
      ],
      "metadata": {
        "colab": {
          "base_uri": "https://localhost:8080/"
        },
        "id": "z2nRSyMKg8mF",
        "outputId": "dbba824e-323b-43b4-b6d8-e07c2d755402"
      },
      "execution_count": null,
      "outputs": [
        {
          "output_type": "stream",
          "name": "stdout",
          "text": [
            "Five is greater than two!\n",
            "Five is greater than two!\n"
          ]
        }
      ]
    },
    {
      "cell_type": "markdown",
      "source": [
        "# Day-3"
      ],
      "metadata": {
        "id": "49zwLoKRhBMU"
      }
    },
    {
      "cell_type": "markdown",
      "source": [
        "## Python Variables"
      ],
      "metadata": {
        "id": "HeF9wyC4hD-N"
      }
    },
    {
      "cell_type": "markdown",
      "source": [
        "In Python, variables are created when you assign a value to it."
      ],
      "metadata": {
        "id": "7-DKEQsWhHzc"
      }
    },
    {
      "cell_type": "markdown",
      "source": [
        "# Creating Variables in python"
      ],
      "metadata": {
        "id": "02nz17fBLqOZ"
      }
    },
    {
      "cell_type": "markdown",
      "source": [
        "Python has no command for declaring a variable.\n",
        "  - A variable is created the moment you first assign a value to it."
      ],
      "metadata": {
        "id": "_WwWwAvyLyvv"
      }
    },
    {
      "cell_type": "markdown",
      "source": [
        "# Example"
      ],
      "metadata": {
        "id": "wIHEoYhyMOfF"
      }
    },
    {
      "cell_type": "code",
      "source": [
        "num=10\n",
        "name=\"Ashish\"\n",
        "print(num)\n",
        "print(name)"
      ],
      "metadata": {
        "colab": {
          "base_uri": "https://localhost:8080/"
        },
        "id": "qE4c_oSnMQTB",
        "outputId": "13945ca4-b94c-4f95-b916-747d75fe0761"
      },
      "execution_count": null,
      "outputs": [
        {
          "output_type": "stream",
          "name": "stdout",
          "text": [
            "10\n",
            "Ashish\n"
          ]
        }
      ]
    },
    {
      "cell_type": "markdown",
      "source": [
        "Variables do not need to be declared with particular type, and can even change type after they have been set."
      ],
      "metadata": {
        "id": "iNslORDXMbpG"
      }
    },
    {
      "cell_type": "code",
      "source": [
        "num=10 # x is of type int\n",
        "num=\"Ashish\" # num is now type of string\n",
        "print(num)\n",
        "print(type(num))"
      ],
      "metadata": {
        "colab": {
          "base_uri": "https://localhost:8080/"
        },
        "id": "PcHVVVuOMm_j",
        "outputId": "079f9c44-3134-41c7-b027-6e29f34b8e34"
      },
      "execution_count": null,
      "outputs": [
        {
          "output_type": "stream",
          "name": "stdout",
          "text": [
            "Ashish\n",
            "<class 'str'>\n"
          ]
        }
      ]
    },
    {
      "cell_type": "markdown",
      "source": [
        "## Casting"
      ],
      "metadata": {
        "id": "qHOdCknFNCvw"
      }
    },
    {
      "cell_type": "markdown",
      "source": [
        "If we want to specify the data types of vaiable , this can be done with casting.\n"
      ],
      "metadata": {
        "id": "GzwZArDmNKHZ"
      }
    },
    {
      "cell_type": "code",
      "source": [
        "x =str(10) # x will be '3'\n",
        "y=int(3) # y will be 3\n",
        "z=float(3) # z will be 3.0\n",
        "# print output\n",
        "print(x,y,z)\n",
        "print(type(x),type(y),type(z))"
      ],
      "metadata": {
        "colab": {
          "base_uri": "https://localhost:8080/"
        },
        "id": "_j-X_x43NTb3",
        "outputId": "b78a1ee0-5bdd-4de2-af55-ae2a9bf2f527"
      },
      "execution_count": null,
      "outputs": [
        {
          "output_type": "stream",
          "name": "stdout",
          "text": [
            "10 3 3.0\n",
            "<class 'str'> <class 'int'> <class 'float'>\n"
          ]
        }
      ]
    },
    {
      "cell_type": "markdown",
      "source": [
        "# Single or Double Quotes ?\n"
      ],
      "metadata": {
        "id": "110lX8YbN33N"
      }
    },
    {
      "cell_type": "code",
      "source": [
        "name=\"Deepa\"\n",
        "# is the same as\n",
        "name='Deepa'\n",
        "print(name)\n",
        "print(type(name))"
      ],
      "metadata": {
        "colab": {
          "base_uri": "https://localhost:8080/"
        },
        "id": "o-TqG-rwN8RX",
        "outputId": "df9ccae3-3218-4593-a542-a844ab3ad733"
      },
      "execution_count": null,
      "outputs": [
        {
          "output_type": "stream",
          "name": "stdout",
          "text": [
            "Deepa\n",
            "<class 'str'>\n"
          ]
        }
      ]
    },
    {
      "cell_type": "markdown",
      "source": [
        "## Case - Sensitive"
      ],
      "metadata": {
        "id": "5hutwl8vON0O"
      }
    },
    {
      "cell_type": "markdown",
      "source": [
        "Variable name are case-sensitive"
      ],
      "metadata": {
        "id": "SWC2642uOQZw"
      }
    },
    {
      "cell_type": "code",
      "source": [
        "a=18\n",
        "A=\"This is case sensitive\"\n",
        "print(a)\n",
        "print(A)"
      ],
      "metadata": {
        "colab": {
          "base_uri": "https://localhost:8080/"
        },
        "id": "x3TQpkeJOVQ-",
        "outputId": "c0ee8aef-32be-4eac-debe-408b65239747"
      },
      "execution_count": null,
      "outputs": [
        {
          "output_type": "stream",
          "name": "stdout",
          "text": [
            "18\n",
            "This is case sensitive\n"
          ]
        }
      ]
    },
    {
      "cell_type": "markdown",
      "source": [
        "# Python - Variables Names\n",
        "## Variable Names\n",
        "A variable can have a short name (like x and y )  or a more descriptive name(age,carname,total_volume).\n"
      ],
      "metadata": {
        "id": "uT_BAVQTOjPr"
      }
    },
    {
      "cell_type": "markdown",
      "source": [
        "## Rules of Python Variables:\n",
        "- A variable name must  start with a letter or the underscore character.\n",
        "- A variable name cannot start with a number\n",
        "- A variable name can only contain alpha-numeric characters and underscores(A-z,0-9,and _)\n",
        "- Variable names are case-sensitive (age,Age, and AGE are three different variables)\n",
        "- A variable name cannot be any if the python keywords"
      ],
      "metadata": {
        "id": "9SZUYy2aO9bd"
      }
    },
    {
      "cell_type": "code",
      "source": [
        "# Legal Variable names:\n",
        "myname=\"Ashish\"\n",
        "my_name=\"Ashish\"\n",
        "_my_name=\"Ashish\"\n",
        "myName=\"Ashish\"\n",
        "MYNAME=\"Ashish\"\n",
        "myname1=\"Ashish\"\n"
      ],
      "metadata": {
        "id": "pv3KctC2P6TB"
      },
      "execution_count": null,
      "outputs": []
    },
    {
      "cell_type": "code",
      "source": [
        "# Illegal Variable names:\n",
        "2myname=\"Ashish\"\n",
        "my-name=\"Ashish\"\n",
        "my name =\"Ashish\""
      ],
      "metadata": {
        "colab": {
          "base_uri": "https://localhost:8080/",
          "height": 106
        },
        "id": "beLUFgyRQSRO",
        "outputId": "409f2d55-a71a-4fd3-8751-c6c541ef20ea"
      },
      "execution_count": null,
      "outputs": [
        {
          "output_type": "error",
          "ename": "SyntaxError",
          "evalue": "invalid decimal literal (<ipython-input-13-7659c538f8b1>, line 2)",
          "traceback": [
            "\u001b[0;36m  File \u001b[0;32m\"<ipython-input-13-7659c538f8b1>\"\u001b[0;36m, line \u001b[0;32m2\u001b[0m\n\u001b[0;31m    2myname=\"Ashish\"\u001b[0m\n\u001b[0m    ^\u001b[0m\n\u001b[0;31mSyntaxError\u001b[0m\u001b[0;31m:\u001b[0m invalid decimal literal\n"
          ]
        }
      ]
    },
    {
      "cell_type": "markdown",
      "source": [
        "## Python Key Keywords\n",
        "- Python has a set of keywords that are reserved words that cannot be used as Variable names,function names,or any other identifires:"
      ],
      "metadata": {
        "id": "vjzV6k6MQifi"
      }
    },
    {
      "cell_type": "code",
      "source": [
        "import keyword\n",
        "\n",
        "# Get the list of Python keywords\n",
        "keywords = keyword.kwlist\n",
        "\n",
        "# Print all keywords\n",
        "print(\"Python Keywords:\")\n",
        "for kw in keywords:\n",
        "    print(kw)\n"
      ],
      "metadata": {
        "colab": {
          "base_uri": "https://localhost:8080/"
        },
        "id": "1qR9R9uZRPHA",
        "outputId": "4f91e569-e837-4481-b011-f9c1af2ea6b4"
      },
      "execution_count": null,
      "outputs": [
        {
          "output_type": "stream",
          "name": "stdout",
          "text": [
            "Python Keywords:\n",
            "False\n",
            "None\n",
            "True\n",
            "and\n",
            "as\n",
            "assert\n",
            "async\n",
            "await\n",
            "break\n",
            "class\n",
            "continue\n",
            "def\n",
            "del\n",
            "elif\n",
            "else\n",
            "except\n",
            "finally\n",
            "for\n",
            "from\n",
            "global\n",
            "if\n",
            "import\n",
            "in\n",
            "is\n",
            "lambda\n",
            "nonlocal\n",
            "not\n",
            "or\n",
            "pass\n",
            "raise\n",
            "return\n",
            "try\n",
            "while\n",
            "with\n",
            "yield\n"
          ]
        }
      ]
    },
    {
      "cell_type": "markdown",
      "source": [
        "## Pascal Case\n",
        "Each word starts with a capital letter"
      ],
      "metadata": {
        "id": "vNZ62FlvRuu6"
      }
    },
    {
      "cell_type": "code",
      "source": [
        "MyNameIs=\"Ashish\"\n",
        "print(MyNameIs)"
      ],
      "metadata": {
        "colab": {
          "base_uri": "https://localhost:8080/"
        },
        "id": "p0pEK-9YR19h",
        "outputId": "62775be7-af83-4052-9260-fce7eb0ede75"
      },
      "execution_count": null,
      "outputs": [
        {
          "output_type": "stream",
          "name": "stdout",
          "text": [
            "Ashish\n"
          ]
        }
      ]
    },
    {
      "cell_type": "markdown",
      "source": [
        "## Snake Case\n",
        "Each word us separated by an underscore character."
      ],
      "metadata": {
        "id": "CFI_JiXQSAQu"
      }
    },
    {
      "cell_type": "code",
      "source": [
        "my_name_is=\"Ashish\"\n",
        "print(my_name_is)"
      ],
      "metadata": {
        "colab": {
          "base_uri": "https://localhost:8080/"
        },
        "id": "OWo5jvdwSHq8",
        "outputId": "cb342196-7cf2-4de6-e2d9-dc39b2935a2b"
      },
      "execution_count": null,
      "outputs": [
        {
          "output_type": "stream",
          "name": "stdout",
          "text": [
            "Ashish\n"
          ]
        }
      ]
    },
    {
      "cell_type": "markdown",
      "source": [
        "# python Variables - Assign Multiple Values"
      ],
      "metadata": {
        "id": "pDWiJUdqSRRC"
      }
    },
    {
      "cell_type": "markdown",
      "source": [
        "- Many Values to Multiple Variables\n",
        "  : Python allows us to assign values to multiple variables in one line"
      ],
      "metadata": {
        "id": "iBIGjfk9SdAF"
      }
    },
    {
      "cell_type": "code",
      "source": [
        "name1,name2,name3=\"Ashish\",\"Ayush\",\"Deepa\"\n",
        "print(name1)\n",
        "print(name2)\n",
        "print(name3)"
      ],
      "metadata": {
        "colab": {
          "base_uri": "https://localhost:8080/"
        },
        "id": "UezaboIHSxGh",
        "outputId": "847f6bd9-9431-4974-a1ea-71270af441c0"
      },
      "execution_count": null,
      "outputs": [
        {
          "output_type": "stream",
          "name": "stdout",
          "text": [
            "Ashish\n",
            "Ayush\n",
            "Deepa\n"
          ]
        }
      ]
    },
    {
      "cell_type": "markdown",
      "source": [
        "## Note !!\n",
        "- Make sure that number of variables matches the number of values,or else we will get an error."
      ],
      "metadata": {
        "id": "R0ixeAW5TDyu"
      }
    },
    {
      "cell_type": "code",
      "source": [
        "num1,num2,num3=1,2\n",
        "print(num1)\n",
        "print(num2)\n",
        "print(num3)"
      ],
      "metadata": {
        "colab": {
          "base_uri": "https://localhost:8080/",
          "height": 193
        },
        "id": "Yj_z8YoyT3WJ",
        "outputId": "97906777-2be9-4e44-82fd-d7dbf9bb914d"
      },
      "execution_count": null,
      "outputs": [
        {
          "output_type": "error",
          "ename": "ValueError",
          "evalue": "not enough values to unpack (expected 3, got 2)",
          "traceback": [
            "\u001b[0;31m---------------------------------------------------------------------------\u001b[0m",
            "\u001b[0;31mValueError\u001b[0m                                Traceback (most recent call last)",
            "\u001b[0;32m<ipython-input-18-7d20dfcb7444>\u001b[0m in \u001b[0;36m<cell line: 0>\u001b[0;34m()\u001b[0m\n\u001b[0;32m----> 1\u001b[0;31m \u001b[0mnum1\u001b[0m\u001b[0;34m,\u001b[0m\u001b[0mnum2\u001b[0m\u001b[0;34m,\u001b[0m\u001b[0mnum3\u001b[0m\u001b[0;34m=\u001b[0m\u001b[0;36m1\u001b[0m\u001b[0;34m,\u001b[0m\u001b[0;36m2\u001b[0m\u001b[0;34m\u001b[0m\u001b[0;34m\u001b[0m\u001b[0m\n\u001b[0m\u001b[1;32m      2\u001b[0m \u001b[0mprint\u001b[0m\u001b[0;34m(\u001b[0m\u001b[0mnum1\u001b[0m\u001b[0;34m)\u001b[0m\u001b[0;34m\u001b[0m\u001b[0;34m\u001b[0m\u001b[0m\n\u001b[1;32m      3\u001b[0m \u001b[0mprint\u001b[0m\u001b[0;34m(\u001b[0m\u001b[0mnum2\u001b[0m\u001b[0;34m)\u001b[0m\u001b[0;34m\u001b[0m\u001b[0;34m\u001b[0m\u001b[0m\n\u001b[1;32m      4\u001b[0m \u001b[0mprint\u001b[0m\u001b[0;34m(\u001b[0m\u001b[0mnum3\u001b[0m\u001b[0;34m)\u001b[0m\u001b[0;34m\u001b[0m\u001b[0;34m\u001b[0m\u001b[0m\n",
            "\u001b[0;31mValueError\u001b[0m: not enough values to unpack (expected 3, got 2)"
          ]
        }
      ]
    },
    {
      "cell_type": "markdown",
      "source": [
        "# One Value to Multiple Variables"
      ],
      "metadata": {
        "id": "4uFapf7nUEnz"
      }
    },
    {
      "cell_type": "markdown",
      "source": [
        "we can assign the same value to multiple variables in one line"
      ],
      "metadata": {
        "id": "XXsL0FhRUIS3"
      }
    },
    {
      "cell_type": "code",
      "source": [
        "fruit1=fruit2=fruit3=\"Orange\"\n",
        "print(fruit1)\n",
        "print(fruit2)\n",
        "print(fruit3)"
      ],
      "metadata": {
        "colab": {
          "base_uri": "https://localhost:8080/"
        },
        "id": "P-Ct7SBhUQ7L",
        "outputId": "8ea27fd6-3c91-4295-dbcb-283504b153fc"
      },
      "execution_count": null,
      "outputs": [
        {
          "output_type": "stream",
          "name": "stdout",
          "text": [
            "Orange\n",
            "Orange\n",
            "Orange\n"
          ]
        }
      ]
    },
    {
      "cell_type": "markdown",
      "source": [
        "## Unpack a Collection"
      ],
      "metadata": {
        "id": "WWIA_x-wUktZ"
      }
    },
    {
      "cell_type": "markdown",
      "source": [
        "If we have a collection of values in a list ,tuple etc.\n",
        "Python allows us to extract the values into variables .This is called unpacking"
      ],
      "metadata": {
        "id": "0wL73IejUncc"
      }
    },
    {
      "cell_type": "code",
      "source": [
        "# Example\n",
        "# Unpack a list:\n",
        "\n",
        "fruits=[\"apple\",\"banana\",\"cherry\"]\n",
        "x,y,z=fruits\n",
        "print(x)\n",
        "print(y)\n",
        "print(z)"
      ],
      "metadata": {
        "colab": {
          "base_uri": "https://localhost:8080/"
        },
        "id": "gfor_itKU3Cg",
        "outputId": "81ce58a5-569a-462b-9f2f-b02c5ffbeb49"
      },
      "execution_count": null,
      "outputs": [
        {
          "output_type": "stream",
          "name": "stdout",
          "text": [
            "apple\n",
            "banana\n",
            "cherry\n"
          ]
        }
      ]
    },
    {
      "cell_type": "markdown",
      "source": [
        "# Output Variables\n",
        "The Python print() function is often used to output the variables"
      ],
      "metadata": {
        "id": "t4liz-EZVccp"
      }
    },
    {
      "cell_type": "code",
      "source": [
        "name1=\"python\"\n",
        "name2=\"is\"\n",
        "name3=\"awesome\"\n",
        "print(name1,name2,name3)"
      ],
      "metadata": {
        "colab": {
          "base_uri": "https://localhost:8080/"
        },
        "id": "Z1gCZ60RVnoM",
        "outputId": "c98373e3-c915-4c38-d6e5-92de6691c6d7"
      },
      "execution_count": null,
      "outputs": [
        {
          "output_type": "stream",
          "name": "stdout",
          "text": [
            "python is awesome\n"
          ]
        }
      ]
    },
    {
      "cell_type": "markdown",
      "source": [
        "# What if we use + operator to output multiple variables"
      ],
      "metadata": {
        "id": "jGuiPjZhV6Dd"
      }
    },
    {
      "cell_type": "code",
      "source": [
        "print(name1+name2+name3)"
      ],
      "metadata": {
        "colab": {
          "base_uri": "https://localhost:8080/"
        },
        "id": "zyBgpWBLWBWh",
        "outputId": "2756ec63-b113-4ce9-a7c0-5e5a5e3880fc"
      },
      "execution_count": null,
      "outputs": [
        {
          "output_type": "stream",
          "name": "stdout",
          "text": [
            "pythonisawesome\n"
          ]
        }
      ]
    },
    {
      "cell_type": "markdown",
      "source": [
        "# Notice the space character after \"Python \" and \"is \", without them the result would be \"Pythonisawesome\"."
      ],
      "metadata": {
        "id": "ts1lkDJ7WKit"
      }
    },
    {
      "cell_type": "code",
      "source": [
        "# for numbers , the + operator character works as a mathematical operator:\n",
        "# example\n",
        "x=5\n",
        "y=10\n",
        "print(x+y)"
      ],
      "metadata": {
        "colab": {
          "base_uri": "https://localhost:8080/"
        },
        "id": "gOCMRwhWWg56",
        "outputId": "f77e3055-6259-4824-8130-d15bb3301868"
      },
      "execution_count": null,
      "outputs": [
        {
          "output_type": "stream",
          "name": "stdout",
          "text": [
            "15\n"
          ]
        }
      ]
    },
    {
      "cell_type": "markdown",
      "source": [
        "# Note:\n",
        "In  print() function , when we try to combine a string and a number with + operator ,python will give us an error"
      ],
      "metadata": {
        "id": "6TrpTaq3Wmsr"
      }
    },
    {
      "cell_type": "code",
      "source": [
        "number=1\n",
        "name=\"Ashish\"\n",
        "print(number+name)"
      ],
      "metadata": {
        "colab": {
          "base_uri": "https://localhost:8080/",
          "height": 176
        },
        "id": "BZx_wAf2XDa7",
        "outputId": "da02c2f4-83b3-4e29-89d6-8b58d7cbbe5e"
      },
      "execution_count": null,
      "outputs": [
        {
          "output_type": "error",
          "ename": "TypeError",
          "evalue": "unsupported operand type(s) for +: 'int' and 'str'",
          "traceback": [
            "\u001b[0;31m---------------------------------------------------------------------------\u001b[0m",
            "\u001b[0;31mTypeError\u001b[0m                                 Traceback (most recent call last)",
            "\u001b[0;32m<ipython-input-24-ce35599928f6>\u001b[0m in \u001b[0;36m<cell line: 0>\u001b[0;34m()\u001b[0m\n\u001b[1;32m      1\u001b[0m \u001b[0mnumber\u001b[0m\u001b[0;34m=\u001b[0m\u001b[0;36m1\u001b[0m\u001b[0;34m\u001b[0m\u001b[0;34m\u001b[0m\u001b[0m\n\u001b[1;32m      2\u001b[0m \u001b[0mname\u001b[0m\u001b[0;34m=\u001b[0m\u001b[0;34m\"Ashish\"\u001b[0m\u001b[0;34m\u001b[0m\u001b[0;34m\u001b[0m\u001b[0m\n\u001b[0;32m----> 3\u001b[0;31m \u001b[0mprint\u001b[0m\u001b[0;34m(\u001b[0m\u001b[0mnumber\u001b[0m\u001b[0;34m+\u001b[0m\u001b[0mname\u001b[0m\u001b[0;34m)\u001b[0m\u001b[0;34m\u001b[0m\u001b[0;34m\u001b[0m\u001b[0m\n\u001b[0m",
            "\u001b[0;31mTypeError\u001b[0m: unsupported operand type(s) for +: 'int' and 'str'"
          ]
        }
      ]
    },
    {
      "cell_type": "markdown",
      "source": [
        "The best way to output multiple variables in the print() function is to separate them with commas, which even support different data types:"
      ],
      "metadata": {
        "id": "P23bL49dXRXu"
      }
    },
    {
      "cell_type": "code",
      "source": [
        "name=\"Ashish\"\n",
        "age=20\n",
        "print(name,age)"
      ],
      "metadata": {
        "colab": {
          "base_uri": "https://localhost:8080/"
        },
        "id": "gStKg_SUXVRG",
        "outputId": "80ad5e1c-c2cf-4d3f-82b5-f8fb47994985"
      },
      "execution_count": null,
      "outputs": [
        {
          "output_type": "stream",
          "name": "stdout",
          "text": [
            "Ashish 20\n"
          ]
        }
      ]
    },
    {
      "cell_type": "markdown",
      "source": [
        "# Global Variable"
      ],
      "metadata": {
        "id": "-KycIH5TX9-n"
      }
    },
    {
      "cell_type": "markdown",
      "source": [
        "- Variables that are created outside a function are known as global variables.\n",
        "- Global Variables can be used by everyone,both inside and outside of the function."
      ],
      "metadata": {
        "id": "4MfA61RVYBYh"
      }
    },
    {
      "cell_type": "code",
      "source": [
        "name=\"Global Variable declaration\"\n",
        "def myfunc():\n",
        "  print(\"This is variable output inside the function: \"+name)\n",
        "myfunc()\n",
        "print(\"This is variable output outside the function: \"+name)"
      ],
      "metadata": {
        "colab": {
          "base_uri": "https://localhost:8080/"
        },
        "id": "v_HEVrfJYh_6",
        "outputId": "501d047a-925b-4305-f9b8-4e7b862a5fe4"
      },
      "execution_count": null,
      "outputs": [
        {
          "output_type": "stream",
          "name": "stdout",
          "text": [
            "This is variable output inside the function: Global Variable declaration\n",
            "This is variable output outside the function:  Global Variable declaration\n"
          ]
        }
      ]
    }
  ]
}