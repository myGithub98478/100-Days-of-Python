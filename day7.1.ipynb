{
  "nbformat": 4,
  "nbformat_minor": 0,
  "metadata": {
    "colab": {
      "provenance": []
    },
    "kernelspec": {
      "name": "python3",
      "display_name": "Python 3"
    },
    "language_info": {
      "name": "python"
    }
  },
  "cells": [
    {
      "cell_type": "markdown",
      "source": [
        "# Loops in Python"
      ],
      "metadata": {
        "id": "bquSxo0P7Yyp"
      }
    },
    {
      "cell_type": "markdown",
      "source": [
        "- for loop\n",
        "- while loop\n",
        "- nested loop"
      ],
      "metadata": {
        "id": "CsOezrbV7_hf"
      }
    },
    {
      "cell_type": "code",
      "source": [
        "# For-Loop in Python\n",
        "name = \"Ashish\"\n",
        "for i in name:\n",
        "  print(i)\n",
        "  if (i==\"h\"):\n",
        "    print(\"h is special\")"
      ],
      "metadata": {
        "colab": {
          "base_uri": "https://localhost:8080/"
        },
        "id": "cfG4pO3i7cbu",
        "outputId": "2c085544-5202-4efc-edeb-f9127088a609"
      },
      "execution_count": 12,
      "outputs": [
        {
          "output_type": "stream",
          "name": "stdout",
          "text": [
            "A\n",
            "s\n",
            "h\n",
            "h is special\n",
            "i\n",
            "s\n",
            "h\n",
            "h is special\n"
          ]
        }
      ]
    },
    {
      "cell_type": "code",
      "source": [
        "colors=[\"Red\",\"Green\",\"Blue\",\"Yellow\"]\n",
        "for clr in colors:\n",
        "  print(clr)\n",
        "  for i in clr:\n",
        "    print(i)"
      ],
      "metadata": {
        "colab": {
          "base_uri": "https://localhost:8080/"
        },
        "id": "-rAIv5Jh9M4H",
        "outputId": "88e7bc1c-07d5-402b-9d45-dfad7abc4a4b"
      },
      "execution_count": 17,
      "outputs": [
        {
          "output_type": "stream",
          "name": "stdout",
          "text": [
            "Red\n",
            "R\n",
            "e\n",
            "d\n",
            "Green\n",
            "G\n",
            "r\n",
            "e\n",
            "e\n",
            "n\n",
            "Blue\n",
            "B\n",
            "l\n",
            "u\n",
            "e\n",
            "Yellow\n",
            "Y\n",
            "e\n",
            "l\n",
            "l\n",
            "o\n",
            "w\n"
          ]
        }
      ]
    },
    {
      "cell_type": "code",
      "source": [
        "for k in range(5):   # range(5) means 0  to 4\n",
        "  print(k)"
      ],
      "metadata": {
        "colab": {
          "base_uri": "https://localhost:8080/"
        },
        "id": "USZRLlA499bI",
        "outputId": "e1bfc065-9694-48f6-d4d9-6111858cb46b"
      },
      "execution_count": 18,
      "outputs": [
        {
          "output_type": "stream",
          "name": "stdout",
          "text": [
            "0\n",
            "1\n",
            "2\n",
            "3\n",
            "4\n"
          ]
        }
      ]
    },
    {
      "cell_type": "code",
      "source": [
        "for k in range(5):\n",
        "  print(k+1) # if we use k+1 it starts with 1 to 5"
      ],
      "metadata": {
        "colab": {
          "base_uri": "https://localhost:8080/"
        },
        "id": "n2_zkIb1-RdX",
        "outputId": "775a6e5d-cdaa-4809-eb77-13f60298927f"
      },
      "execution_count": 19,
      "outputs": [
        {
          "output_type": "stream",
          "name": "stdout",
          "text": [
            "1\n",
            "2\n",
            "3\n",
            "4\n",
            "5\n"
          ]
        }
      ]
    },
    {
      "cell_type": "code",
      "source": [
        "for k in range(1,9):\n",
        "  print(k)"
      ],
      "metadata": {
        "colab": {
          "base_uri": "https://localhost:8080/"
        },
        "id": "OoMGgHuz-nLd",
        "outputId": "cc4002c2-c1fd-45c3-a627-aad131072722"
      },
      "execution_count": 22,
      "outputs": [
        {
          "output_type": "stream",
          "name": "stdout",
          "text": [
            "1\n",
            "2\n",
            "3\n",
            "4\n",
            "5\n",
            "6\n",
            "7\n",
            "8\n"
          ]
        }
      ]
    },
    {
      "cell_type": "code",
      "source": [
        "for k in range(1,20001):\n",
        "  print(k) # print till 20000\n",
        ""
      ],
      "metadata": {
        "id": "mRbIMF2P-5be"
      },
      "execution_count": null,
      "outputs": []
    },
    {
      "cell_type": "code",
      "source": [
        "for k in range(1,11,3):\n",
        "  print(k)"
      ],
      "metadata": {
        "colab": {
          "base_uri": "https://localhost:8080/"
        },
        "id": "-u_I-BtB_J38",
        "outputId": "f55483b2-c2dc-4d73-9b0f-b840c7edfca2"
      },
      "execution_count": 29,
      "outputs": [
        {
          "output_type": "stream",
          "name": "stdout",
          "text": [
            "1\n",
            "4\n",
            "7\n",
            "10\n"
          ]
        }
      ]
    }
  ]
}