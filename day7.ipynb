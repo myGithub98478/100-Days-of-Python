{
  "nbformat": 4,
  "nbformat_minor": 0,
  "metadata": {
    "colab": {
      "provenance": []
    },
    "kernelspec": {
      "name": "python3",
      "display_name": "Python 3"
    },
    "language_info": {
      "name": "python"
    }
  },
  "cells": [
    {
      "cell_type": "markdown",
      "source": [
        "# Match Case in Python"
      ],
      "metadata": {
        "id": "O9szmzO52kau"
      }
    },
    {
      "cell_type": "code",
      "source": [
        "match_variable=int(input(\"Enter a number:\"))\n",
        "match match_variable:\n",
        "  # if match_variable is 0\n",
        "  case 0:\n",
        "    print(\"Match_variable in case zero is\",match_variable)\n",
        "  # case with if -condition\n",
        "  case 4:\n",
        "    print(\"Match variable in case 4 is\",match_variable)\n",
        "# for default case\n",
        "  case _:\n",
        "    print(\"match vaiable in detault case is :\",match_variable)\n"
      ],
      "metadata": {
        "colab": {
          "base_uri": "https://localhost:8080/"
        },
        "id": "Xi-BLuSF2ozw",
        "outputId": "8e263b21-2969-4c95-d152-4c05680efcb8"
      },
      "execution_count": null,
      "outputs": [
        {
          "output_type": "stream",
          "name": "stdout",
          "text": [
            "Enter a number:0\n",
            "Match_variable in case zero is 0\n"
          ]
        }
      ]
    },
    {
      "cell_type": "code",
      "source": [
        "# we can use the multiple default case using if-condition\n",
        "x=int(input(\"Enter the value of x:\"))\n",
        "# x is the variable to match\n",
        "match x:\n",
        "  # if x is 0\n",
        "  case 0:\n",
        "    print(\"x is zero\")\n",
        "  case 4:\n",
        "    print(\"case is 4\")\n",
        "  case _ if x!=90:\n",
        "    print(x,\"is not 90\")\n",
        "  case _ if x!=80:\n",
        "    print(x,\"is not equal to 80\")\n",
        "  case _ :\n",
        "    print(x)"
      ],
      "metadata": {
        "colab": {
          "base_uri": "https://localhost:8080/"
        },
        "id": "6vcq3TgP41iH",
        "outputId": "2a901846-d79a-4ebd-ac3f-18d1266a7092"
      },
      "execution_count": null,
      "outputs": [
        {
          "output_type": "stream",
          "name": "stdout",
          "text": [
            "Enter the value of x:90\n",
            "90 is not equal to 80\n"
          ]
        }
      ]
    },
    {
      "cell_type": "code",
      "source": [
        "# Enter a number to guess the 7 -days in week\n",
        "x =int(input(\"Enter a number from 1-7 to get the name of day\"))\n",
        "match x:\n",
        "  case 1:\n",
        "    print(\"Day-1 is Sunday\")\n",
        "  case 2:\n",
        "    print(\"Day -2 is Monday\")\n",
        "  case 3:\n",
        "    print(\"Day-3 is Tuesday\")\n",
        "  case 4:\n",
        "    print(\"Day -4 is Wednesday\")\n",
        "  case 5:\n",
        "    print(\"day-5 is Thursday\")\n",
        "  case 6:\n",
        "    print(\"Day -6 is Friday\")\n",
        "  case 7:\n",
        "    print(\"Day-7 is Saturday\")\n",
        "  case _ :\n",
        "    print(\"Invalid Input\")"
      ],
      "metadata": {
        "colab": {
          "base_uri": "https://localhost:8080/"
        },
        "id": "ljxXOpZb6Hbh",
        "outputId": "56363f92-7973-4cb4-9112-4eb10f712429"
      },
      "execution_count": null,
      "outputs": [
        {
          "output_type": "stream",
          "name": "stdout",
          "text": [
            "Enter a number from 1-7 to get the name of day2\n",
            "Day -2 is Monday\n"
          ]
        }
      ]
    }
  ]
}